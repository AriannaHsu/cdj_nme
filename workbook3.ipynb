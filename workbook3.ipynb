{
 "cells": [
  {
   "cell_type": "markdown",
   "metadata": {},
   "source": [
    "## Workbook 3: Visualizations\n",
    "\n",
    "All resources, unless otherwise specified, are created by Nikhil Chinchalkar"
   ]
  },
  {
   "cell_type": "markdown",
   "metadata": {},
   "source": [
    "You should now feel confident about your ability to import multiple data sources and filter and merge them accordingly to get a single dataset. Once you have that dataset, you might want to visualize certain findings, which is what this notebook is all about.\n",
    "\n",
    "Visualizations are my favorite aspect of data science because they can tell you so much about a dataset in just a few seconds. Hopefully, the plots we make here have that effect on you too. Honestly, making these plots is the easy part: deciding what you want to visualize and how exactly *to* visualize it is the hard part and is an art form in itself."
   ]
  },
  {
   "cell_type": "markdown",
   "metadata": {},
   "source": [
    "### A: Seaborn and Matplotlib "
   ]
  },
  {
   "cell_type": "markdown",
   "metadata": {},
   "source": [
    "Seaborn and matplotlib are both plotting libraries in Python. Seaborn is the more simple option, being quick and easy to learn whereas matplotlib is more difficult to interpret but offers more customization. Sometimes they interact, though, so I'll teach them together. For most applications, you'll be fine with just using Seaborn. We'll get started by importing the libraries with their corresponding nicknames:"
   ]
  },
  {
   "cell_type": "code",
   "execution_count": 3,
   "metadata": {},
   "outputs": [],
   "source": [
    "import pandas as pd\n",
    "import seaborn as sns\n",
    "import duckdb\n",
    "import matplotlib.pyplot as plt"
   ]
  },
  {
   "cell_type": "markdown",
   "metadata": {},
   "source": [
    "Again, if you get an error importing those packages, then uncomment and run the following lines:"
   ]
  },
  {
   "cell_type": "code",
   "execution_count": null,
   "metadata": {},
   "outputs": [
    {
     "name": "stdout",
     "output_type": "stream",
     "text": [
      "Collecting seaborn\n",
      "  Using cached seaborn-0.13.2-py3-none-any.whl.metadata (5.4 kB)\n",
      "Requirement already satisfied: numpy!=1.24.0,>=1.20 in c:\\users\\arian\\anaconda3\\envs\\datajournal\\lib\\site-packages (from seaborn) (2.2.3)\n",
      "Requirement already satisfied: pandas>=1.2 in c:\\users\\arian\\anaconda3\\envs\\datajournal\\lib\\site-packages (from seaborn) (2.2.3)\n",
      "Collecting matplotlib!=3.6.1,>=3.4 (from seaborn)\n",
      "  Downloading matplotlib-3.10.1-cp312-cp312-win_amd64.whl.metadata (11 kB)\n",
      "Collecting contourpy>=1.0.1 (from matplotlib!=3.6.1,>=3.4->seaborn)\n",
      "  Downloading contourpy-1.3.1-cp312-cp312-win_amd64.whl.metadata (5.4 kB)\n",
      "Collecting cycler>=0.10 (from matplotlib!=3.6.1,>=3.4->seaborn)\n",
      "  Using cached cycler-0.12.1-py3-none-any.whl.metadata (3.8 kB)\n",
      "Collecting fonttools>=4.22.0 (from matplotlib!=3.6.1,>=3.4->seaborn)\n",
      "  Downloading fonttools-4.56.0-cp312-cp312-win_amd64.whl.metadata (103 kB)\n",
      "Collecting kiwisolver>=1.3.1 (from matplotlib!=3.6.1,>=3.4->seaborn)\n",
      "  Downloading kiwisolver-1.4.8-cp312-cp312-win_amd64.whl.metadata (6.3 kB)\n",
      "Requirement already satisfied: packaging>=20.0 in c:\\users\\arian\\anaconda3\\envs\\datajournal\\lib\\site-packages (from matplotlib!=3.6.1,>=3.4->seaborn) (24.2)\n",
      "Collecting pillow>=8 (from matplotlib!=3.6.1,>=3.4->seaborn)\n",
      "  Downloading pillow-11.1.0-cp312-cp312-win_amd64.whl.metadata (9.3 kB)\n",
      "Collecting pyparsing>=2.3.1 (from matplotlib!=3.6.1,>=3.4->seaborn)\n",
      "  Using cached pyparsing-3.2.1-py3-none-any.whl.metadata (5.0 kB)\n",
      "Requirement already satisfied: python-dateutil>=2.7 in c:\\users\\arian\\anaconda3\\envs\\datajournal\\lib\\site-packages (from matplotlib!=3.6.1,>=3.4->seaborn) (2.9.0.post0)\n",
      "Requirement already satisfied: pytz>=2020.1 in c:\\users\\arian\\anaconda3\\envs\\datajournal\\lib\\site-packages (from pandas>=1.2->seaborn) (2025.1)\n",
      "Requirement already satisfied: tzdata>=2022.7 in c:\\users\\arian\\anaconda3\\envs\\datajournal\\lib\\site-packages (from pandas>=1.2->seaborn) (2025.1)\n",
      "Requirement already satisfied: six>=1.5 in c:\\users\\arian\\anaconda3\\envs\\datajournal\\lib\\site-packages (from python-dateutil>=2.7->matplotlib!=3.6.1,>=3.4->seaborn) (1.16.0)\n",
      "Using cached seaborn-0.13.2-py3-none-any.whl (294 kB)\n",
      "Downloading matplotlib-3.10.1-cp312-cp312-win_amd64.whl (8.1 MB)\n",
      "   ---------------------------------------- 0.0/8.1 MB ? eta -:--:--\n",
      "   ---------------------------------------- 0.0/8.1 MB ? eta -:--:--\n",
      "   ---------------------------------------- 0.0/8.1 MB ? eta -:--:--\n",
      "   ---------------------------------------- 0.0/8.1 MB ? eta -:--:--\n",
      "   ---------------------------------------- 0.0/8.1 MB ? eta -:--:--\n",
      "   - -------------------------------------- 0.3/8.1 MB ? eta -:--:--\n",
      "   - -------------------------------------- 0.3/8.1 MB ? eta -:--:--\n",
      "   - -------------------------------------- 0.3/8.1 MB ? eta -:--:--\n",
      "   - -------------------------------------- 0.3/8.1 MB ? eta -:--:--\n",
      "   - -------------------------------------- 0.3/8.1 MB ? eta -:--:--\n",
      "   -- ------------------------------------- 0.5/8.1 MB 223.7 kB/s eta 0:00:34\n",
      "   -- ------------------------------------- 0.5/8.1 MB 223.7 kB/s eta 0:00:34\n",
      "   -- ------------------------------------- 0.5/8.1 MB 223.7 kB/s eta 0:00:34\n",
      "   -- ------------------------------------- 0.5/8.1 MB 223.7 kB/s eta 0:00:34\n",
      "   -- ------------------------------------- 0.5/8.1 MB 223.7 kB/s eta 0:00:34\n",
      "   --- ------------------------------------ 0.8/8.1 MB 234.7 kB/s eta 0:00:32\n",
      "   --- ------------------------------------ 0.8/8.1 MB 234.7 kB/s eta 0:00:32\n",
      "   --- ------------------------------------ 0.8/8.1 MB 234.7 kB/s eta 0:00:32\n",
      "   --- ------------------------------------ 0.8/8.1 MB 234.7 kB/s eta 0:00:32\n",
      "   --- ------------------------------------ 0.8/8.1 MB 234.7 kB/s eta 0:00:32\n",
      "   --- ------------------------------------ 0.8/8.1 MB 234.7 kB/s eta 0:00:32\n",
      "   ----- ---------------------------------- 1.0/8.1 MB 223.7 kB/s eta 0:00:32\n",
      "   ----- ---------------------------------- 1.0/8.1 MB 223.7 kB/s eta 0:00:32\n",
      "   ----- ---------------------------------- 1.0/8.1 MB 223.7 kB/s eta 0:00:32\n",
      "   ----- ---------------------------------- 1.0/8.1 MB 223.7 kB/s eta 0:00:32\n",
      "   ------ --------------------------------- 1.3/8.1 MB 242.3 kB/s eta 0:00:28\n",
      "   ------ --------------------------------- 1.3/8.1 MB 242.3 kB/s eta 0:00:28\n",
      "   ------ --------------------------------- 1.3/8.1 MB 242.3 kB/s eta 0:00:28\n",
      "   ------- -------------------------------- 1.6/8.1 MB 258.1 kB/s eta 0:00:26\n",
      "   ------- -------------------------------- 1.6/8.1 MB 258.1 kB/s eta 0:00:26\n",
      "   ------- -------------------------------- 1.6/8.1 MB 258.1 kB/s eta 0:00:26\n",
      "   --------- ------------------------------ 1.8/8.1 MB 282.8 kB/s eta 0:00:23\n",
      "   ---------- ----------------------------- 2.1/8.1 MB 309.1 kB/s eta 0:00:20\n",
      "   ---------- ----------------------------- 2.1/8.1 MB 309.1 kB/s eta 0:00:20\n",
      "   ----------- ---------------------------- 2.4/8.1 MB 330.6 kB/s eta 0:00:18\n",
      "   ----------- ---------------------------- 2.4/8.1 MB 330.6 kB/s eta 0:00:18\n",
      "   ------------- -------------------------- 2.6/8.1 MB 352.0 kB/s eta 0:00:16\n",
      "   ------------- -------------------------- 2.6/8.1 MB 352.0 kB/s eta 0:00:16\n",
      "   ------------- -------------------------- 2.6/8.1 MB 352.0 kB/s eta 0:00:16\n",
      "   ------------- -------------------------- 2.6/8.1 MB 352.0 kB/s eta 0:00:16\n",
      "   ---------------- ----------------------- 3.4/8.1 MB 416.0 kB/s eta 0:00:12\n",
      "   ------------------ --------------------- 3.7/8.1 MB 438.9 kB/s eta 0:00:11\n",
      "   ------------------ --------------------- 3.7/8.1 MB 438.9 kB/s eta 0:00:11\n",
      "   ------------------- -------------------- 3.9/8.1 MB 450.9 kB/s eta 0:00:10\n",
      "   ------------------- -------------------- 3.9/8.1 MB 450.9 kB/s eta 0:00:10\n",
      "   -------------------- ------------------- 4.2/8.1 MB 456.7 kB/s eta 0:00:09\n",
      "   -------------------- ------------------- 4.2/8.1 MB 456.7 kB/s eta 0:00:09\n",
      "   -------------------- ------------------- 4.2/8.1 MB 456.7 kB/s eta 0:00:09\n",
      "   ---------------------- ----------------- 4.5/8.1 MB 450.4 kB/s eta 0:00:09\n",
      "   ---------------------- ----------------- 4.5/8.1 MB 450.4 kB/s eta 0:00:09\n",
      "   ---------------------- ----------------- 4.5/8.1 MB 450.4 kB/s eta 0:00:09\n",
      "   ----------------------- ---------------- 4.7/8.1 MB 449.1 kB/s eta 0:00:08\n",
      "   ----------------------- ---------------- 4.7/8.1 MB 449.1 kB/s eta 0:00:08\n",
      "   ----------------------- ---------------- 4.7/8.1 MB 449.1 kB/s eta 0:00:08\n",
      "   ------------------------ --------------- 5.0/8.1 MB 448.1 kB/s eta 0:00:07\n",
      "   ------------------------ --------------- 5.0/8.1 MB 448.1 kB/s eta 0:00:07\n",
      "   -------------------------- ------------- 5.2/8.1 MB 454.7 kB/s eta 0:00:07\n",
      "   -------------------------- ------------- 5.2/8.1 MB 454.7 kB/s eta 0:00:07\n",
      "   --------------------------- ------------ 5.5/8.1 MB 460.3 kB/s eta 0:00:06\n",
      "   --------------------------- ------------ 5.5/8.1 MB 460.3 kB/s eta 0:00:06\n",
      "   ---------------------------- ----------- 5.8/8.1 MB 467.3 kB/s eta 0:00:05\n",
      "   ---------------------------- ----------- 5.8/8.1 MB 467.3 kB/s eta 0:00:05\n",
      "   ---------------------------- ----------- 5.8/8.1 MB 467.3 kB/s eta 0:00:05\n",
      "   ------------------------------- -------- 6.3/8.1 MB 484.2 kB/s eta 0:00:04\n",
      "   ------------------------------- -------- 6.3/8.1 MB 484.2 kB/s eta 0:00:04\n",
      "   ------------------------------- -------- 6.3/8.1 MB 484.2 kB/s eta 0:00:04\n",
      "   -------------------------------- ------- 6.6/8.1 MB 484.0 kB/s eta 0:00:04\n",
      "   --------------------------------- ------ 6.8/8.1 MB 488.3 kB/s eta 0:00:03\n",
      "   --------------------------------- ------ 6.8/8.1 MB 488.3 kB/s eta 0:00:03\n",
      "   ----------------------------------- ---- 7.1/8.1 MB 498.0 kB/s eta 0:00:02\n",
      "   ----------------------------------- ---- 7.1/8.1 MB 498.0 kB/s eta 0:00:02\n",
      "   ------------------------------------ --- 7.3/8.1 MB 500.0 kB/s eta 0:00:02\n",
      "   ------------------------------------ --- 7.3/8.1 MB 500.0 kB/s eta 0:00:02\n",
      "   ------------------------------------- -- 7.6/8.1 MB 503.5 kB/s eta 0:00:01\n",
      "   ------------------------------------- -- 7.6/8.1 MB 503.5 kB/s eta 0:00:01\n",
      "   ---------------------------------------  7.9/8.1 MB 504.7 kB/s eta 0:00:01\n",
      "   ---------------------------------------  7.9/8.1 MB 504.7 kB/s eta 0:00:01\n",
      "   ---------------------------------------- 8.1/8.1 MB 502.8 kB/s eta 0:00:00\n",
      "Downloading contourpy-1.3.1-cp312-cp312-win_amd64.whl (220 kB)\n",
      "Using cached cycler-0.12.1-py3-none-any.whl (8.3 kB)\n",
      "Downloading fonttools-4.56.0-cp312-cp312-win_amd64.whl (2.2 MB)\n",
      "   ---------------------------------------- 0.0/2.2 MB ? eta -:--:--\n",
      "   ---------------------------------------- 0.0/2.2 MB ? eta -:--:--\n",
      "   ---------------------------------------- 0.0/2.2 MB ? eta -:--:--\n",
      "   ---------------------------------------- 0.0/2.2 MB ? eta -:--:--\n",
      "   ---- ----------------------------------- 0.3/2.2 MB ? eta -:--:--\n",
      "   ---- ----------------------------------- 0.3/2.2 MB ? eta -:--:--\n",
      "   ---- ----------------------------------- 0.3/2.2 MB ? eta -:--:--\n",
      "   --------- ------------------------------ 0.5/2.2 MB 419.4 kB/s eta 0:00:04\n",
      "   --------- ------------------------------ 0.5/2.2 MB 419.4 kB/s eta 0:00:04\n",
      "   -------------- ------------------------- 0.8/2.2 MB 459.9 kB/s eta 0:00:04\n",
      "   -------------- ------------------------- 0.8/2.2 MB 459.9 kB/s eta 0:00:04\n",
      "   ------------------- -------------------- 1.0/2.2 MB 493.7 kB/s eta 0:00:03\n",
      "   ------------------- -------------------- 1.0/2.2 MB 493.7 kB/s eta 0:00:03\n",
      "   ----------------------- ---------------- 1.3/2.2 MB 504.6 kB/s eta 0:00:02\n",
      "   ----------------------- ---------------- 1.3/2.2 MB 504.6 kB/s eta 0:00:02\n",
      "   ----------------------- ---------------- 1.3/2.2 MB 504.6 kB/s eta 0:00:02\n",
      "   ---------------------------- ----------- 1.6/2.2 MB 505.5 kB/s eta 0:00:02\n",
      "   ---------------------------- ----------- 1.6/2.2 MB 505.5 kB/s eta 0:00:02\n",
      "   --------------------------------- ------ 1.8/2.2 MB 500.9 kB/s eta 0:00:01\n",
      "   --------------------------------- ------ 1.8/2.2 MB 500.9 kB/s eta 0:00:01\n",
      "   --------------------------------- ------ 1.8/2.2 MB 500.9 kB/s eta 0:00:01\n",
      "   --------------------------------- ------ 1.8/2.2 MB 500.9 kB/s eta 0:00:01\n",
      "   --------------------------------- ------ 1.8/2.2 MB 500.9 kB/s eta 0:00:01\n",
      "   -------------------------------------- - 2.1/2.2 MB 436.6 kB/s eta 0:00:01\n",
      "   ---------------------------------------- 2.2/2.2 MB 439.1 kB/s eta 0:00:00\n",
      "Downloading kiwisolver-1.4.8-cp312-cp312-win_amd64.whl (71 kB)\n",
      "Downloading pillow-11.1.0-cp312-cp312-win_amd64.whl (2.6 MB)\n",
      "   ---------------------------------------- 0.0/2.6 MB ? eta -:--:--\n",
      "   ---------------------------------------- 0.0/2.6 MB ? eta -:--:--\n",
      "   ---------------------------------------- 0.0/2.6 MB ? eta -:--:--\n",
      "   ---------------------------------------- 0.0/2.6 MB ? eta -:--:--\n",
      "   ---------------------------------------- 0.0/2.6 MB ? eta -:--:--\n",
      "   ---------------------------------------- 0.0/2.6 MB ? eta -:--:--\n",
      "   ---------------------------------------- 0.0/2.6 MB ? eta -:--:--\n",
      "   --- ------------------------------------ 0.3/2.6 MB ? eta -:--:--\n",
      "   --- ------------------------------------ 0.3/2.6 MB ? eta -:--:--\n",
      "   --- ------------------------------------ 0.3/2.6 MB ? eta -:--:--\n",
      "   --- ------------------------------------ 0.3/2.6 MB ? eta -:--:--\n",
      "   --- ------------------------------------ 0.3/2.6 MB ? eta -:--:--\n",
      "   --- ------------------------------------ 0.3/2.6 MB ? eta -:--:--\n",
      "   ------- -------------------------------- 0.5/2.6 MB 197.4 kB/s eta 0:00:11\n",
      "   ----------- ---------------------------- 0.8/2.6 MB 345.8 kB/s eta 0:00:06\n",
      "   ----------- ---------------------------- 0.8/2.6 MB 345.8 kB/s eta 0:00:06\n",
      "   ----------- ---------------------------- 0.8/2.6 MB 345.8 kB/s eta 0:00:06\n",
      "   --------------- ------------------------ 1.0/2.6 MB 357.0 kB/s eta 0:00:05\n",
      "   --------------- ------------------------ 1.0/2.6 MB 357.0 kB/s eta 0:00:05\n",
      "   --------------- ------------------------ 1.0/2.6 MB 357.0 kB/s eta 0:00:05\n",
      "   ------------------- -------------------- 1.3/2.6 MB 349.5 kB/s eta 0:00:04\n",
      "   ------------------- -------------------- 1.3/2.6 MB 349.5 kB/s eta 0:00:04\n",
      "   ------------------- -------------------- 1.3/2.6 MB 349.5 kB/s eta 0:00:04\n",
      "   ------------------- -------------------- 1.3/2.6 MB 349.5 kB/s eta 0:00:04\n",
      "   ----------------------- ---------------- 1.6/2.6 MB 345.2 kB/s eta 0:00:04\n",
      "   ----------------------- ---------------- 1.6/2.6 MB 345.2 kB/s eta 0:00:04\n",
      "   ----------------------- ---------------- 1.6/2.6 MB 345.2 kB/s eta 0:00:04\n",
      "   ----------------------- ---------------- 1.6/2.6 MB 345.2 kB/s eta 0:00:04\n",
      "   --------------------------- ------------ 1.8/2.6 MB 341.2 kB/s eta 0:00:03\n",
      "   --------------------------- ------------ 1.8/2.6 MB 341.2 kB/s eta 0:00:03\n",
      "   ------------------------------- -------- 2.1/2.6 MB 359.1 kB/s eta 0:00:02\n",
      "   ------------------------------- -------- 2.1/2.6 MB 359.1 kB/s eta 0:00:02\n",
      "   ------------------------------- -------- 2.1/2.6 MB 359.1 kB/s eta 0:00:02\n",
      "   ----------------------------------- ---- 2.4/2.6 MB 372.8 kB/s eta 0:00:01\n",
      "   ----------------------------------- ---- 2.4/2.6 MB 372.8 kB/s eta 0:00:01\n",
      "   ---------------------------------------- 2.6/2.6 MB 381.1 kB/s eta 0:00:00\n",
      "Using cached pyparsing-3.2.1-py3-none-any.whl (107 kB)\n",
      "Installing collected packages: pyparsing, pillow, kiwisolver, fonttools, cycler, contourpy, matplotlib, seaborn\n",
      "Successfully installed contourpy-1.3.1 cycler-0.12.1 fonttools-4.56.0 kiwisolver-1.4.8 matplotlib-3.10.1 pillow-11.1.0 pyparsing-3.2.1 seaborn-0.13.2\n",
      "Note: you may need to restart the kernel to use updated packages.\n",
      "Requirement already satisfied: matplotlib in c:\\users\\arian\\anaconda3\\envs\\datajournal\\lib\\site-packages (3.10.1)\n",
      "Requirement already satisfied: contourpy>=1.0.1 in c:\\users\\arian\\anaconda3\\envs\\datajournal\\lib\\site-packages (from matplotlib) (1.3.1)\n",
      "Requirement already satisfied: cycler>=0.10 in c:\\users\\arian\\anaconda3\\envs\\datajournal\\lib\\site-packages (from matplotlib) (0.12.1)\n",
      "Requirement already satisfied: fonttools>=4.22.0 in c:\\users\\arian\\anaconda3\\envs\\datajournal\\lib\\site-packages (from matplotlib) (4.56.0)\n",
      "Requirement already satisfied: kiwisolver>=1.3.1 in c:\\users\\arian\\anaconda3\\envs\\datajournal\\lib\\site-packages (from matplotlib) (1.4.8)\n",
      "Requirement already satisfied: numpy>=1.23 in c:\\users\\arian\\anaconda3\\envs\\datajournal\\lib\\site-packages (from matplotlib) (2.2.3)\n",
      "Requirement already satisfied: packaging>=20.0 in c:\\users\\arian\\anaconda3\\envs\\datajournal\\lib\\site-packages (from matplotlib) (24.2)\n",
      "Requirement already satisfied: pillow>=8 in c:\\users\\arian\\anaconda3\\envs\\datajournal\\lib\\site-packages (from matplotlib) (11.1.0)\n",
      "Requirement already satisfied: pyparsing>=2.3.1 in c:\\users\\arian\\anaconda3\\envs\\datajournal\\lib\\site-packages (from matplotlib) (3.2.1)\n",
      "Requirement already satisfied: python-dateutil>=2.7 in c:\\users\\arian\\anaconda3\\envs\\datajournal\\lib\\site-packages (from matplotlib) (2.9.0.post0)\n",
      "Requirement already satisfied: six>=1.5 in c:\\users\\arian\\anaconda3\\envs\\datajournal\\lib\\site-packages (from python-dateutil>=2.7->matplotlib) (1.16.0)\n",
      "Note: you may need to restart the kernel to use updated packages.\n"
     ]
    }
   ],
   "source": [
    "#%pip install seaborn\n",
    "#%pip install matplotlib"
   ]
  },
  {
   "cell_type": "markdown",
   "metadata": {},
   "source": [
    "We'll import the dataset we'll be using for these visuals, which is from [Kaggle](https://www.kaggle.com/datasets/heesoo37/120-years-of-olympic-history-athletes-and-results?select=athlete_events.csv). This is a dataset that contains historic data about various Olypmics events. You should get a sense of what the dataset looks like by scrolling through a few of the rows and all of the columns."
   ]
  },
  {
   "cell_type": "code",
   "execution_count": 4,
   "metadata": {},
   "outputs": [],
   "source": [
    "olympics = pd.read_csv('olympics.csv')"
   ]
  },
  {
   "cell_type": "markdown",
   "metadata": {},
   "source": [
    "Before we start visualizing, let's see what exactly the dataset looks like, by printing the columns. You can also just get a sense of the dataset by looking at it in Excel or Google Sheets."
   ]
  },
  {
   "cell_type": "code",
   "execution_count": 5,
   "metadata": {},
   "outputs": [
    {
     "data": {
      "text/plain": [
       "Index(['ID', 'Name', 'Sex', 'Age', 'Height', 'Weight', 'Team', 'NOC', 'Games',\n",
       "       'Year', 'Season', 'City', 'Sport', 'Event', 'Medal'],\n",
       "      dtype='object')"
      ]
     },
     "execution_count": 5,
     "metadata": {},
     "output_type": "execute_result"
    }
   ],
   "source": [
    "olympics.columns"
   ]
  },
  {
   "cell_type": "markdown",
   "metadata": {},
   "source": [
    "We're going to make 3 main plots based on this data: one being a scatter plot, the next a line graph, and finally a histogram. Let's get started with a scatter plot. Here, our overarching goal is to show how different events (hockey, basketball, gymnastics) have different athlete heights and weights."
   ]
  },
  {
   "cell_type": "markdown",
   "metadata": {},
   "source": [
    "I'll walk through these plots step by step, with each subsequent call adding to the previous. Let's start by filtering the data a bit."
   ]
  },
  {
   "cell_type": "code",
   "execution_count": 32,
   "metadata": {},
   "outputs": [
    {
     "data": {
      "text/html": [
       "<div>\n",
       "<style scoped>\n",
       "    .dataframe tbody tr th:only-of-type {\n",
       "        vertical-align: middle;\n",
       "    }\n",
       "\n",
       "    .dataframe tbody tr th {\n",
       "        vertical-align: top;\n",
       "    }\n",
       "\n",
       "    .dataframe thead th {\n",
       "        text-align: right;\n",
       "    }\n",
       "</style>\n",
       "<table border=\"1\" class=\"dataframe\">\n",
       "  <thead>\n",
       "    <tr style=\"text-align: right;\">\n",
       "      <th></th>\n",
       "      <th>ID</th>\n",
       "      <th>Name</th>\n",
       "      <th>Sex</th>\n",
       "      <th>Age</th>\n",
       "      <th>Height</th>\n",
       "      <th>Weight</th>\n",
       "      <th>Team</th>\n",
       "      <th>NOC</th>\n",
       "      <th>Games</th>\n",
       "      <th>Year</th>\n",
       "      <th>Season</th>\n",
       "      <th>City</th>\n",
       "      <th>Sport</th>\n",
       "      <th>Event</th>\n",
       "      <th>Medal</th>\n",
       "    </tr>\n",
       "  </thead>\n",
       "  <tbody>\n",
       "    <tr>\n",
       "      <th>0</th>\n",
       "      <td>576</td>\n",
       "      <td>Alejandro \"lex\" Abrines Redondo</td>\n",
       "      <td>M</td>\n",
       "      <td>23.0</td>\n",
       "      <td>198.0</td>\n",
       "      <td>93.0</td>\n",
       "      <td>Spain</td>\n",
       "      <td>ESP</td>\n",
       "      <td>2016 Summer</td>\n",
       "      <td>2016</td>\n",
       "      <td>Summer</td>\n",
       "      <td>Rio de Janeiro</td>\n",
       "      <td>Basketball</td>\n",
       "      <td>Basketball Men's Basketball</td>\n",
       "      <td>Bronze</td>\n",
       "    </tr>\n",
       "    <tr>\n",
       "      <th>1</th>\n",
       "      <td>742</td>\n",
       "      <td>Roberto Acua</td>\n",
       "      <td>M</td>\n",
       "      <td>25.0</td>\n",
       "      <td>208.0</td>\n",
       "      <td>109.0</td>\n",
       "      <td>Argentina</td>\n",
       "      <td>ARG</td>\n",
       "      <td>2016 Summer</td>\n",
       "      <td>2016</td>\n",
       "      <td>Summer</td>\n",
       "      <td>Rio de Janeiro</td>\n",
       "      <td>Basketball</td>\n",
       "      <td>Basketball Men's Basketball</td>\n",
       "      <td>None</td>\n",
       "    </tr>\n",
       "    <tr>\n",
       "      <th>2</th>\n",
       "      <td>51</td>\n",
       "      <td>Nstor Abad Sanjun</td>\n",
       "      <td>M</td>\n",
       "      <td>23.0</td>\n",
       "      <td>167.0</td>\n",
       "      <td>64.0</td>\n",
       "      <td>Spain</td>\n",
       "      <td>ESP</td>\n",
       "      <td>2016 Summer</td>\n",
       "      <td>2016</td>\n",
       "      <td>Summer</td>\n",
       "      <td>Rio de Janeiro</td>\n",
       "      <td>Gymnastics</td>\n",
       "      <td>Gymnastics Men's Individual All-Around</td>\n",
       "      <td>None</td>\n",
       "    </tr>\n",
       "    <tr>\n",
       "      <th>3</th>\n",
       "      <td>51</td>\n",
       "      <td>Nstor Abad Sanjun</td>\n",
       "      <td>M</td>\n",
       "      <td>23.0</td>\n",
       "      <td>167.0</td>\n",
       "      <td>64.0</td>\n",
       "      <td>Spain</td>\n",
       "      <td>ESP</td>\n",
       "      <td>2016 Summer</td>\n",
       "      <td>2016</td>\n",
       "      <td>Summer</td>\n",
       "      <td>Rio de Janeiro</td>\n",
       "      <td>Gymnastics</td>\n",
       "      <td>Gymnastics Men's Floor Exercise</td>\n",
       "      <td>None</td>\n",
       "    </tr>\n",
       "    <tr>\n",
       "      <th>4</th>\n",
       "      <td>51</td>\n",
       "      <td>Nstor Abad Sanjun</td>\n",
       "      <td>M</td>\n",
       "      <td>23.0</td>\n",
       "      <td>167.0</td>\n",
       "      <td>64.0</td>\n",
       "      <td>Spain</td>\n",
       "      <td>ESP</td>\n",
       "      <td>2016 Summer</td>\n",
       "      <td>2016</td>\n",
       "      <td>Summer</td>\n",
       "      <td>Rio de Janeiro</td>\n",
       "      <td>Gymnastics</td>\n",
       "      <td>Gymnastics Men's Parallel Bars</td>\n",
       "      <td>None</td>\n",
       "    </tr>\n",
       "  </tbody>\n",
       "</table>\n",
       "</div>"
      ],
      "text/plain": [
       "    ID                             Name Sex   Age  Height  Weight       Team  \\\n",
       "0  576  Alejandro \"lex\" Abrines Redondo   M  23.0   198.0    93.0      Spain   \n",
       "1  742                     Roberto Acua   M  25.0   208.0   109.0  Argentina   \n",
       "2   51                Nstor Abad Sanjun   M  23.0   167.0    64.0      Spain   \n",
       "3   51                Nstor Abad Sanjun   M  23.0   167.0    64.0      Spain   \n",
       "4   51                Nstor Abad Sanjun   M  23.0   167.0    64.0      Spain   \n",
       "\n",
       "   NOC        Games  Year  Season            City       Sport  \\\n",
       "0  ESP  2016 Summer  2016  Summer  Rio de Janeiro  Basketball   \n",
       "1  ARG  2016 Summer  2016  Summer  Rio de Janeiro  Basketball   \n",
       "2  ESP  2016 Summer  2016  Summer  Rio de Janeiro  Gymnastics   \n",
       "3  ESP  2016 Summer  2016  Summer  Rio de Janeiro  Gymnastics   \n",
       "4  ESP  2016 Summer  2016  Summer  Rio de Janeiro  Gymnastics   \n",
       "\n",
       "                                    Event   Medal  \n",
       "0             Basketball Men's Basketball  Bronze  \n",
       "1             Basketball Men's Basketball    None  \n",
       "2  Gymnastics Men's Individual All-Around    None  \n",
       "3         Gymnastics Men's Floor Exercise    None  \n",
       "4          Gymnastics Men's Parallel Bars    None  "
      ]
     },
     "execution_count": 32,
     "metadata": {},
     "output_type": "execute_result"
    }
   ],
   "source": [
    "athletes = duckdb.sql(\"\"\"SELECT * FROM olympics \n",
    "                      WHERE Games = '2016 Summer' AND Sex = 'M'\n",
    "                      AND (Sport = 'Basketball' OR Sport = 'Hockey' OR Sport = 'Gymnastics')\"\"\").df()\n",
    "\n",
    "athletes.head()"
   ]
  },
  {
   "cell_type": "markdown",
   "metadata": {},
   "source": [
    "Hopefully the above is easy to interpret, but all I'm doing is filtering to three sports from the 2016 Summer games (the most recent games in the dataset) and only including males, since differences by height and weight in gender can throw off our plots. The chuck of code below is all we need to start our scatter plot. Here, I'm using Seaborn (sns) to plot based on the `athletes` dataset, with `Height` on the X-axis and `Weight` on the Y. "
   ]
  },
  {
   "cell_type": "code",
   "execution_count": 8,
   "metadata": {},
   "outputs": [
    {
     "data": {
      "text/plain": [
       "<Axes: xlabel='Height', ylabel='Weight'>"
      ]
     },
     "execution_count": 8,
     "metadata": {},
     "output_type": "execute_result"
    },
    {
     "data": {
      "image/png": "[encoded data removed]",
      "text/plain": [
       "<Figure size 640x480 with 1 Axes>"
      ]
     },
     "metadata": {},
     "output_type": "display_data"
    }
   ],
   "source": [
    "sns.scatterplot(athletes, x='Height',y='Weight')"
   ]
  },
  {
   "cell_type": "markdown",
   "metadata": {},
   "source": [
    "This is a good start: it matches up with our intuition too, since athletes who are taller probably weight more too. But we want to show a difference in height and weight by sport. To do that, we can just add the `hue` parameter to the `scatterplot` call, which colors the plot based on information in the `hue` column. Though we're technically 'coloring' the plot, the `hue` parameter is different than the `color` parameter. `color` sets the color of all points in the plot based on colors like 'red' or 'blue'. `hue`, on the other hand, can change the color of *certain* points based on the data."
   ]
  },
  {
   "cell_type": "code",
   "execution_count": 9,
   "metadata": {},
   "outputs": [
    {
     "data": {
      "text/plain": [
       "<Axes: xlabel='Height', ylabel='Weight'>"
      ]
     },
     "execution_count": 9,
     "metadata": {},
     "output_type": "execute_result"
    },
    {
     "data": {
      "image/png": "[encoded data removed]",
      "text/plain": [
       "<Figure size 640x480 with 1 Axes>"
      ]
     },
     "metadata": {},
     "output_type": "display_data"
    }
   ],
   "source": [
    "sns.scatterplot(athletes, x='Height',y='Weight', hue='Sport')"
   ]
  },
  {
   "cell_type": "markdown",
   "metadata": {},
   "source": [
    "This above plot looks pretty nice, and shows some clear differences in athletes across sports: basketball players are much bigger and taller than gymnasts, and hockey players are kind of in the middle of the two. There's a ton more that we could do to the plot but for now we'll just add a title and better X and Y axis labels.\n",
    "\n",
    "To do this, we'll call on matplotlib to add an `xlabel` to the current plot. We'll do the same for the `ylabel`. Finally, we'll add in a nice title with the `title` command. Also, to get rid of the text that prints whenever we have one of these plots, we'll call `plt.show()` which gets rid of the unneeded printed text."
   ]
  },
  {
   "cell_type": "code",
   "execution_count": 11,
   "metadata": {},
   "outputs": [
    {
     "data": {
      "image/png": "[encoded data removed]",
      "text/plain": [
       "<Figure size 640x480 with 1 Axes>"
      ]
     },
     "metadata": {},
     "output_type": "display_data"
    }
   ],
   "source": [
    "sns.scatterplot(athletes, x='Height',y='Weight', hue='Sport')\n",
    "plt.xlabel('Height (cm)')\n",
    "plt.ylabel('Weight (kg)')\n",
    "plt.title('Olympic Athletes Heights and Weights in Different Sports')\n",
    "plt.show()"
   ]
  },
  {
   "cell_type": "markdown",
   "metadata": {},
   "source": [
    "That's a pretty nice looking plot and conveys information very easily. There's a lot more we could try to do (like annotating in the average male's height and weight for a comparison), but a lot of that is specific to this plot, so there's no point in trying to memorize it. But stuff like axis labels and the initialization call are going to be in 99% of plots, so those are good to know."
   ]
  },
  {
   "cell_type": "markdown",
   "metadata": {},
   "source": [
    "Now, we'll pick the pace up and move into line plots. Once again, I'll manipulate our original dataset to get something that could be displayed in lineplot form. The overarching goal here is to see how basketball players' (male and female) heights have changed over time."
   ]
  },
  {
   "cell_type": "code",
   "execution_count": 12,
   "metadata": {},
   "outputs": [
    {
     "data": {
      "text/html": [
       "<div>\n",
       "<style scoped>\n",
       "    .dataframe tbody tr th:only-of-type {\n",
       "        vertical-align: middle;\n",
       "    }\n",
       "\n",
       "    .dataframe tbody tr th {\n",
       "        vertical-align: top;\n",
       "    }\n",
       "\n",
       "    .dataframe thead th {\n",
       "        text-align: right;\n",
       "    }\n",
       "</style>\n",
       "<table border=\"1\" class=\"dataframe\">\n",
       "  <thead>\n",
       "    <tr style=\"text-align: right;\">\n",
       "      <th></th>\n",
       "      <th>Year</th>\n",
       "      <th>AvgHeight</th>\n",
       "    </tr>\n",
       "  </thead>\n",
       "  <tbody>\n",
       "    <tr>\n",
       "      <th>0</th>\n",
       "      <td>1936</td>\n",
       "      <td>182.574074</td>\n",
       "    </tr>\n",
       "    <tr>\n",
       "      <th>1</th>\n",
       "      <td>1948</td>\n",
       "      <td>185.550725</td>\n",
       "    </tr>\n",
       "    <tr>\n",
       "      <th>2</th>\n",
       "      <td>1952</td>\n",
       "      <td>187.600000</td>\n",
       "    </tr>\n",
       "    <tr>\n",
       "      <th>3</th>\n",
       "      <td>1956</td>\n",
       "      <td>186.952941</td>\n",
       "    </tr>\n",
       "    <tr>\n",
       "      <th>4</th>\n",
       "      <td>1960</td>\n",
       "      <td>188.317708</td>\n",
       "    </tr>\n",
       "  </tbody>\n",
       "</table>\n",
       "</div>"
      ],
      "text/plain": [
       "   Year   AvgHeight\n",
       "0  1936  182.574074\n",
       "1  1948  185.550725\n",
       "2  1952  187.600000\n",
       "3  1956  186.952941\n",
       "4  1960  188.317708"
      ]
     },
     "execution_count": 12,
     "metadata": {},
     "output_type": "execute_result"
    }
   ],
   "source": [
    "athletes_line = duckdb.sql(\"\"\"SELECT Year, AVG(Height) AS AvgHeight\n",
    "                           FROM olympics \n",
    "                           WHERE Season = 'Summer' AND Sport = 'Basketball'\n",
    "                           GROUP BY Year\n",
    "                           ORDER BY Year ASC\"\"\").df()\n",
    "\n",
    "athletes_line.head()"
   ]
  },
  {
   "cell_type": "markdown",
   "metadata": {},
   "source": [
    "Now, we'll just plot the `AvgHeight` over time. To do that, we'll use Seaborn's `lineplot` call, with the `Year` on the X and `AvgHeight` on the Y. Remember to supply the actual data to the `lineplot` function call, too."
   ]
  },
  {
   "cell_type": "code",
   "execution_count": 11,
   "metadata": {},
   "outputs": [
    {
     "data": {
      "text/plain": [
       "<Axes: xlabel='Year', ylabel='AvgHeight'>"
      ]
     },
     "execution_count": 11,
     "metadata": {},
     "output_type": "execute_result"
    },
    {
     "data": {
      "image/png": "[encoded data removed]",
      "text/plain": [
       "<Figure size 640x480 with 1 Axes>"
      ]
     },
     "metadata": {},
     "output_type": "display_data"
    }
   ],
   "source": [
    "sns.lineplot(athletes_line, x='Year', y='AvgHeight')"
   ]
  },
  {
   "cell_type": "markdown",
   "metadata": {},
   "source": [
    "As you can see, most of the work for data visualizations is just getting the data in the right format. The visualization part is pretty easy. Now it's your turn. Duplicate the above plot, add an appropriate title, and an appropriate Y-axis label. Also change the *color* of the line to something other than the default shade of blue."
   ]
  },
  {
   "cell_type": "code",
   "execution_count": 15,
   "metadata": {},
   "outputs": [
    {
     "data": {
      "image/png": "[encoded data removed]",
      "text/plain": [
       "<Figure size 640x480 with 1 Axes>"
      ]
     },
     "metadata": {},
     "output_type": "display_data"
    }
   ],
   "source": [
    "#A1 your code here\n",
    "sns.lineplot(athletes_line, x='Year', y='AvgHeight', color = 'red')\n",
    "plt.xlabel(\"Year\")\n",
    "plt.ylabel(\"Average Height (cm)\")\n",
    "plt.title(\"Average Height of Olympic Basketball Players Over Time\")\n",
    "plt.show()"
   ]
  },
  {
   "cell_type": "markdown",
   "metadata": {},
   "source": [
    "Finally, let's do a histogram. For this, we'll try to plot the number of Gold medals each country has earned in the 2012 Summer Olympics. To get started, we'll need to once again manipulate our original dataset. This time I'll turn this task over to you. Remember, we're trying to have a data frame with 2 rows: one for the country and the other that has a *count* of all the (only) gold medals they earned (called `Golds`).\n",
    "\n",
    "To make sure you get an output that matches up with mine, order `Golds` in descending order and print out the first 5 rows.\n",
    "\n",
    "Be sure to use the `LIMIT 10` function in the SQL prompt, since we're only going to be looking at the top 10 gold medal getters."
   ]
  },
  {
   "cell_type": "code",
   "execution_count": 40,
   "metadata": {},
   "outputs": [
    {
     "data": {
      "text/html": [
       "<div>\n",
       "<style scoped>\n",
       "    .dataframe tbody tr th:only-of-type {\n",
       "        vertical-align: middle;\n",
       "    }\n",
       "\n",
       "    .dataframe tbody tr th {\n",
       "        vertical-align: top;\n",
       "    }\n",
       "\n",
       "    .dataframe thead th {\n",
       "        text-align: right;\n",
       "    }\n",
       "</style>\n",
       "<table border=\"1\" class=\"dataframe\">\n",
       "  <thead>\n",
       "    <tr style=\"text-align: right;\">\n",
       "      <th></th>\n",
       "      <th>Team</th>\n",
       "      <th>Golds</th>\n",
       "    </tr>\n",
       "  </thead>\n",
       "  <tbody>\n",
       "    <tr>\n",
       "      <th>0</th>\n",
       "      <td>United States</td>\n",
       "      <td>139</td>\n",
       "    </tr>\n",
       "    <tr>\n",
       "      <th>1</th>\n",
       "      <td>Russia</td>\n",
       "      <td>50</td>\n",
       "    </tr>\n",
       "    <tr>\n",
       "      <th>2</th>\n",
       "      <td>China</td>\n",
       "      <td>50</td>\n",
       "    </tr>\n",
       "    <tr>\n",
       "      <th>3</th>\n",
       "      <td>Great Britain</td>\n",
       "      <td>46</td>\n",
       "    </tr>\n",
       "    <tr>\n",
       "      <th>4</th>\n",
       "      <td>Germany</td>\n",
       "      <td>43</td>\n",
       "    </tr>\n",
       "  </tbody>\n",
       "</table>\n",
       "</div>"
      ],
      "text/plain": [
       "            Team  Golds\n",
       "0  United States    139\n",
       "1         Russia     50\n",
       "2          China     50\n",
       "3  Great Britain     46\n",
       "4        Germany     43"
      ]
     },
     "execution_count": 40,
     "metadata": {},
     "output_type": "execute_result"
    }
   ],
   "source": [
    "#A2: your code here\n",
    "\n",
    "golds = duckdb.sql('''SELECT Team, COUNT(Name) AS Golds\n",
    "                         FROM olympics\n",
    "                         WHERE Medal = 'Gold' AND Year = '2012'\n",
    "                         GROUP BY Team\n",
    "                         ORDER BY Count(Medal) DESC\n",
    "                         LIMIT 10\n",
    "''').df()\n",
    "\n",
    "golds.head()"
   ]
  },
  {
   "cell_type": "markdown",
   "metadata": {},
   "source": [
    "Expected Output:\n",
    "\n",
    "```\n",
    "            Team  Golds\n",
    "0  United States    139\n",
    "1          China     50\n",
    "2         Russia     50\n",
    "3  Great Britain     46\n",
    "4        Germany     43\n",
    "```"
   ]
  },
  {
   "cell_type": "markdown",
   "metadata": {},
   "source": [
    "Note that this medal count might differ from what you look up online - don't worry about that: our count will double count team events where more than 1 gold medal is handed out (since we're technically counting the number of *athletes*' gold medals). In an actual data science application we would fix this, but for our sake, it's fine as is."
   ]
  },
  {
   "cell_type": "markdown",
   "metadata": {},
   "source": [
    "Now let's work on plotting this in a barplot:"
   ]
  },
  {
   "cell_type": "code",
   "execution_count": 41,
   "metadata": {},
   "outputs": [
    {
     "data": {
      "text/plain": [
       "<Axes: xlabel='Team', ylabel='Golds'>"
      ]
     },
     "execution_count": 41,
     "metadata": {},
     "output_type": "execute_result"
    },
    {
     "data": {
      "image/png": "[encoded data removed]",
      "text/plain": [
       "<Figure size 640x480 with 1 Axes>"
      ]
     },
     "metadata": {},
     "output_type": "display_data"
    }
   ],
   "source": [
    "#this line is given to you and should work if the above A2 was done correctly, \n",
    "#uncomment it when you've created the data frame 'golds'\n",
    "\n",
    "sns.barplot(golds, x='Team', y='Golds')"
   ]
  },
  {
   "cell_type": "markdown",
   "metadata": {},
   "source": [
    "The call is, again, very simple. Still, there's some major improvements that we can make. First of all, we need to rotate the x-ticks so that the country names don't overlap. Then, we'll fix up the axis labels and add a title. This all should look pretty familiar."
   ]
  },
  {
   "cell_type": "code",
   "execution_count": 42,
   "metadata": {},
   "outputs": [
    {
     "data": {
      "image/png": "[encoded data removed]",
      "text/plain": [
       "<Figure size 640x480 with 1 Axes>"
      ]
     },
     "metadata": {},
     "output_type": "display_data"
    }
   ],
   "source": [
    "#same thing as above, uncomment the stuff below once you've done the stuff above\n",
    "\n",
    "sns.barplot(golds, x='Team', y='Golds')\n",
    "plt.xticks(rotation=-45)\n",
    "plt.xlabel('Country')\n",
    "plt.ylabel('Number of Golds')\n",
    "plt.title('Number of Gold Medal Athletes Per Country in the 2012 Olympics')\n",
    "plt.show()"
   ]
  },
  {
   "cell_type": "markdown",
   "metadata": {},
   "source": [
    "Switching gears a bit, we can also make a pretty simple histogram (frequency) plot just based on the data in one column, putting each value into a bin. Let's do this for the athlete's ages, putting each of them into 20 unique bins:"
   ]
  },
  {
   "cell_type": "code",
   "execution_count": 43,
   "metadata": {},
   "outputs": [
    {
     "data": {
      "image/png": "[encoded data removed]",
      "text/plain": [
       "<Figure size 640x480 with 1 Axes>"
      ]
     },
     "metadata": {},
     "output_type": "display_data"
    }
   ],
   "source": [
    "sns.histplot(olympics, x='Age', bins=20)\n",
    "plt.title('Distribution of Olympic Athletes\\' Ages')\n",
    "plt.show()"
   ]
  },
  {
   "cell_type": "markdown",
   "metadata": {},
   "source": [
    "With a title and a good bin distribution, you can pretty easily make a solid visual, which is very helpful for exploratory data analysis. The graph above is also good news for us - we don't have to feel old yet, though there are some teenagers in the Olympics."
   ]
  },
  {
   "cell_type": "markdown",
   "metadata": {},
   "source": [
    "Let's turn it to you now. Here I'm giving you the starter code that filters the dataset to just the 100 meter dash from the 2016 summer olympics. Using this dataset, I want you to make a scatter plot of each of the athletes `Height` (X-axis) and `Weight` (Y-Axis). Then, I want you to use the `hue` parameter to color each of the points based on the `Medal` category, which will only color the athletes who received a Gold, Silver, or Bronze medal.\n",
    "\n",
    "I'm not going to give you the expected output here, but you can either Google the race results as a check or just use your prior knowledge about who won the event and their body type. \n",
    "\n",
    "If it helps you check your understanding, try adding the line `plt.annotate(text=\"Usain Bolt\", xy=(188,95))` to your plot, which should line up in an expected spot."
   ]
  },
  {
   "cell_type": "code",
   "execution_count": 45,
   "metadata": {},
   "outputs": [
    {
     "data": {
      "text/html": [
       "<div>\n",
       "<style scoped>\n",
       "    .dataframe tbody tr th:only-of-type {\n",
       "        vertical-align: middle;\n",
       "    }\n",
       "\n",
       "    .dataframe tbody tr th {\n",
       "        vertical-align: top;\n",
       "    }\n",
       "\n",
       "    .dataframe thead th {\n",
       "        text-align: right;\n",
       "    }\n",
       "</style>\n",
       "<table border=\"1\" class=\"dataframe\">\n",
       "  <thead>\n",
       "    <tr style=\"text-align: right;\">\n",
       "      <th></th>\n",
       "      <th>ID</th>\n",
       "      <th>Name</th>\n",
       "      <th>Sex</th>\n",
       "      <th>Age</th>\n",
       "      <th>Height</th>\n",
       "      <th>Weight</th>\n",
       "      <th>Team</th>\n",
       "      <th>NOC</th>\n",
       "      <th>Games</th>\n",
       "      <th>Year</th>\n",
       "      <th>Season</th>\n",
       "      <th>City</th>\n",
       "      <th>Sport</th>\n",
       "      <th>Event</th>\n",
       "      <th>Medal</th>\n",
       "    </tr>\n",
       "  </thead>\n",
       "  <tbody>\n",
       "    <tr>\n",
       "      <th>0</th>\n",
       "      <td>611</td>\n",
       "      <td>Mohammed Abukhousa</td>\n",
       "      <td>M</td>\n",
       "      <td>23.0</td>\n",
       "      <td>170.0</td>\n",
       "      <td>67.0</td>\n",
       "      <td>Palestine</td>\n",
       "      <td>PLE</td>\n",
       "      <td>2016 Summer</td>\n",
       "      <td>2016</td>\n",
       "      <td>Summer</td>\n",
       "      <td>Rio de Janeiro</td>\n",
       "      <td>Athletics</td>\n",
       "      <td>Athletics Men's 100 metres</td>\n",
       "      <td></td>\n",
       "    </tr>\n",
       "    <tr>\n",
       "      <th>1</th>\n",
       "      <td>804</td>\n",
       "      <td>Antoine Xavier Adams</td>\n",
       "      <td>M</td>\n",
       "      <td>27.0</td>\n",
       "      <td>180.0</td>\n",
       "      <td>79.0</td>\n",
       "      <td>Saint Kitts and Nevis</td>\n",
       "      <td>SKN</td>\n",
       "      <td>2016 Summer</td>\n",
       "      <td>2016</td>\n",
       "      <td>Summer</td>\n",
       "      <td>Rio de Janeiro</td>\n",
       "      <td>Athletics</td>\n",
       "      <td>Athletics Men's 100 metres</td>\n",
       "      <td></td>\n",
       "    </tr>\n",
       "    <tr>\n",
       "      <th>2</th>\n",
       "      <td>1421</td>\n",
       "      <td>Masbah Ahmmed</td>\n",
       "      <td>M</td>\n",
       "      <td>21.0</td>\n",
       "      <td>NaN</td>\n",
       "      <td>NaN</td>\n",
       "      <td>Bangladesh</td>\n",
       "      <td>BAN</td>\n",
       "      <td>2016 Summer</td>\n",
       "      <td>2016</td>\n",
       "      <td>Summer</td>\n",
       "      <td>Rio de Janeiro</td>\n",
       "      <td>Athletics</td>\n",
       "      <td>Athletics Men's 100 metres</td>\n",
       "      <td></td>\n",
       "    </tr>\n",
       "    <tr>\n",
       "      <th>3</th>\n",
       "      <td>1946</td>\n",
       "      <td>Barakat Mubarak Al-Harthi</td>\n",
       "      <td>M</td>\n",
       "      <td>28.0</td>\n",
       "      <td>173.0</td>\n",
       "      <td>67.0</td>\n",
       "      <td>Oman</td>\n",
       "      <td>OMA</td>\n",
       "      <td>2016 Summer</td>\n",
       "      <td>2016</td>\n",
       "      <td>Summer</td>\n",
       "      <td>Rio de Janeiro</td>\n",
       "      <td>Athletics</td>\n",
       "      <td>Athletics Men's 100 metres</td>\n",
       "      <td></td>\n",
       "    </tr>\n",
       "    <tr>\n",
       "      <th>4</th>\n",
       "      <td>5561</td>\n",
       "      <td>Nickel Ashmeade</td>\n",
       "      <td>M</td>\n",
       "      <td>26.0</td>\n",
       "      <td>183.0</td>\n",
       "      <td>77.0</td>\n",
       "      <td>Jamaica</td>\n",
       "      <td>JAM</td>\n",
       "      <td>2016 Summer</td>\n",
       "      <td>2016</td>\n",
       "      <td>Summer</td>\n",
       "      <td>Rio de Janeiro</td>\n",
       "      <td>Athletics</td>\n",
       "      <td>Athletics Men's 100 metres</td>\n",
       "      <td></td>\n",
       "    </tr>\n",
       "  </tbody>\n",
       "</table>\n",
       "</div>"
      ],
      "text/plain": [
       "     ID                       Name Sex   Age  Height  Weight  \\\n",
       "0   611         Mohammed Abukhousa   M  23.0   170.0    67.0   \n",
       "1   804       Antoine Xavier Adams   M  27.0   180.0    79.0   \n",
       "2  1421              Masbah Ahmmed   M  21.0     NaN     NaN   \n",
       "3  1946  Barakat Mubarak Al-Harthi   M  28.0   173.0    67.0   \n",
       "4  5561            Nickel Ashmeade   M  26.0   183.0    77.0   \n",
       "\n",
       "                    Team  NOC        Games  Year  Season            City  \\\n",
       "0              Palestine  PLE  2016 Summer  2016  Summer  Rio de Janeiro   \n",
       "1  Saint Kitts and Nevis  SKN  2016 Summer  2016  Summer  Rio de Janeiro   \n",
       "2             Bangladesh  BAN  2016 Summer  2016  Summer  Rio de Janeiro   \n",
       "3                   Oman  OMA  2016 Summer  2016  Summer  Rio de Janeiro   \n",
       "4                Jamaica  JAM  2016 Summer  2016  Summer  Rio de Janeiro   \n",
       "\n",
       "       Sport                       Event Medal  \n",
       "0  Athletics  Athletics Men's 100 metres        \n",
       "1  Athletics  Athletics Men's 100 metres        \n",
       "2  Athletics  Athletics Men's 100 metres        \n",
       "3  Athletics  Athletics Men's 100 metres        \n",
       "4  Athletics  Athletics Men's 100 metres        "
      ]
     },
     "execution_count": 45,
     "metadata": {},
     "output_type": "execute_result"
    }
   ],
   "source": [
    "#A3 given code\n",
    "fastest = duckdb.sql(\"\"\"SELECT * FROM olympics \n",
    "                      WHERE Games = '2016 Summer' AND SEX = 'M' AND Event LIKE '%s 100 metres%'\n",
    "                      AND Sport = 'Athletics'\"\"\").df()\n",
    "\n",
    "fastest['Medal'] = fastest['Medal'].fillna(\"\")\n",
    "\n",
    "fastest.head()"
   ]
  },
  {
   "cell_type": "code",
   "execution_count": 58,
   "metadata": {},
   "outputs": [
    {
     "data": {
      "text/plain": [
       "Text(175, 70, 'Andre De Grasse')"
      ]
     },
     "execution_count": 58,
     "metadata": {},
     "output_type": "execute_result"
    },
    {
     "data": {
      "image/png": "[encoded data removed]",
      "text/plain": [
       "<Figure size 640x480 with 1 Axes>"
      ]
     },
     "metadata": {},
     "output_type": "display_data"
    }
   ],
   "source": [
    "#A3 your code here\n",
    "sns.scatterplot(fastest, x='Height', y='Weight', hue='Medal', \n",
    "                palette = {'Gold': 'gold', 'Silver': 'silver', 'Bronze': 'brown', '': 'black'})\n",
    "plt.annotate(text=\"Usain Bolt\", xy=(188,95))\n",
    "plt.annotate(text=\"Justin Gatlin\", xy=(186,80))\n",
    "plt.annotate(text=\"Andre De Grasse\", xy=(175,70))"
   ]
  },
  {
   "cell_type": "markdown",
   "metadata": {},
   "source": [
    "Just saying, if we wanted to automatically add labels to certain values in this plot, we could do that with a for loop in a few lines of code. That's a bit beyond what's necessary here and frankly, Python makes adding labels to points a bit too complicated for my liking, so I'll skip past it for now. Just keep in mind that it's something that's possible, and can help this plot look a bit nicer. "
   ]
  },
  {
   "cell_type": "markdown",
   "metadata": {},
   "source": [
    "That's pretty much it: if this section felt a bit shallow that's because it kind of has to be. Knowing how to do the base visualizations is important, but for most of the applications of visuals you'll do later on, there'll be certain things that you just *have* to Google and figure out by yourself since each dataset and application is so unique."
   ]
  },
  {
   "cell_type": "markdown",
   "metadata": {},
   "source": [
    "### B: Plotly "
   ]
  },
  {
   "cell_type": "markdown",
   "metadata": {},
   "source": [
    "This section is all about Plotly, which is a great tool for programmers to easily make interactive visualizations. The problem I have with Plotly is that it contains its own syntax and it's use cases are a bit specific (for when you're building websites or things that someone can interact with). For that reason, I'm going to make this section pretty brief. \n",
    "\n",
    "I highly recommend that you at least scroll through this section to learn about *how* certain plots are created (incase you might be interested or need to make them in the future), but there won't be any 'assignments' for you to complete in here.  "
   ]
  },
  {
   "cell_type": "markdown",
   "metadata": {},
   "source": [
    "Let's just make a scatter plot of the '1992 Dream Team' USA Men's Olympic Basketball team's heights and weights. Honestly, this plot isn't as meaningful as the rest of the one's we saw above, but it's just a fun little plot we can make with some (hopefully) recognizable names and interaction elements."
   ]
  },
  {
   "cell_type": "code",
   "execution_count": 60,
   "metadata": {},
   "outputs": [],
   "source": [
    "import plotly.express as px"
   ]
  },
  {
   "cell_type": "code",
   "execution_count": null,
   "metadata": {},
   "outputs": [
    {
     "name": "stdout",
     "output_type": "stream",
     "text": [
      "Collecting plotly\n",
      "  Downloading plotly-6.0.0-py3-none-any.whl.metadata (5.6 kB)\n",
      "Collecting narwhals>=1.15.1 (from plotly)\n",
      "  Downloading narwhals-1.30.0-py3-none-any.whl.metadata (11 kB)\n",
      "Requirement already satisfied: packaging in c:\\users\\arian\\anaconda3\\envs\\datajournal\\lib\\site-packages (from plotly) (24.2)\n",
      "Downloading plotly-6.0.0-py3-none-any.whl (14.8 MB)\n",
      "   ---------------------------------------- 0.0/14.8 MB ? eta -:--:--\n",
      "   ---------------------------------------- 0.0/14.8 MB ? eta -:--:--\n",
      "    --------------------------------------- 0.3/14.8 MB ? eta -:--:--\n",
      "    --------------------------------------- 0.3/14.8 MB ? eta -:--:--\n",
      "   - -------------------------------------- 0.5/14.8 MB 466.4 kB/s eta 0:00:31\n",
      "   - -------------------------------------- 0.5/14.8 MB 466.4 kB/s eta 0:00:31\n",
      "   -- ------------------------------------- 0.8/14.8 MB 541.6 kB/s eta 0:00:26\n",
      "   -- ------------------------------------- 0.8/14.8 MB 541.6 kB/s eta 0:00:26\n",
      "   -- ------------------------------------- 0.8/14.8 MB 541.6 kB/s eta 0:00:26\n",
      "   -- ------------------------------------- 0.8/14.8 MB 541.6 kB/s eta 0:00:26\n",
      "   -- ------------------------------------- 1.0/14.8 MB 445.6 kB/s eta 0:00:31\n",
      "   -- ------------------------------------- 1.0/14.8 MB 445.6 kB/s eta 0:00:31\n",
      "   -- ------------------------------------- 1.0/14.8 MB 445.6 kB/s eta 0:00:31\n",
      "   -- ------------------------------------- 1.0/14.8 MB 445.6 kB/s eta 0:00:31\n",
      "   -- ------------------------------------- 1.0/14.8 MB 445.6 kB/s eta 0:00:31\n",
      "   --- ------------------------------------ 1.3/14.8 MB 364.7 kB/s eta 0:00:38\n",
      "   --- ------------------------------------ 1.3/14.8 MB 364.7 kB/s eta 0:00:38\n",
      "   --- ------------------------------------ 1.3/14.8 MB 364.7 kB/s eta 0:00:38\n",
      "   ---- ----------------------------------- 1.6/14.8 MB 376.2 kB/s eta 0:00:36\n",
      "   ---- ----------------------------------- 1.6/14.8 MB 376.2 kB/s eta 0:00:36\n",
      "   ---- ----------------------------------- 1.6/14.8 MB 376.2 kB/s eta 0:00:36\n",
      "   ---- ----------------------------------- 1.6/14.8 MB 376.2 kB/s eta 0:00:36\n",
      "   ---- ----------------------------------- 1.6/14.8 MB 376.2 kB/s eta 0:00:36\n",
      "   ---- ----------------------------------- 1.8/14.8 MB 347.1 kB/s eta 0:00:38\n",
      "   ---- ----------------------------------- 1.8/14.8 MB 347.1 kB/s eta 0:00:38\n",
      "   ---- ----------------------------------- 1.8/14.8 MB 347.1 kB/s eta 0:00:38\n",
      "   ---- ----------------------------------- 1.8/14.8 MB 347.1 kB/s eta 0:00:38\n",
      "   ----- ---------------------------------- 2.1/14.8 MB 336.5 kB/s eta 0:00:38\n",
      "   ----- ---------------------------------- 2.1/14.8 MB 336.5 kB/s eta 0:00:38\n",
      "   ----- ---------------------------------- 2.1/14.8 MB 336.5 kB/s eta 0:00:38\n",
      "   ----- ---------------------------------- 2.1/14.8 MB 336.5 kB/s eta 0:00:38\n",
      "   ------ --------------------------------- 2.4/14.8 MB 329.8 kB/s eta 0:00:38\n",
      "   ------ --------------------------------- 2.4/14.8 MB 329.8 kB/s eta 0:00:38\n",
      "   ------ --------------------------------- 2.4/14.8 MB 329.8 kB/s eta 0:00:38\n",
      "   ------ --------------------------------- 2.4/14.8 MB 329.8 kB/s eta 0:00:38\n",
      "   ------ --------------------------------- 2.4/14.8 MB 329.8 kB/s eta 0:00:38\n",
      "   ------- -------------------------------- 2.6/14.8 MB 323.4 kB/s eta 0:00:38\n",
      "   ------- -------------------------------- 2.6/14.8 MB 323.4 kB/s eta 0:00:38\n",
      "   ------- -------------------------------- 2.6/14.8 MB 323.4 kB/s eta 0:00:38\n",
      "   ------- -------------------------------- 2.6/14.8 MB 323.4 kB/s eta 0:00:38\n",
      "   ------- -------------------------------- 2.9/14.8 MB 323.3 kB/s eta 0:00:37\n",
      "   ------- -------------------------------- 2.9/14.8 MB 323.3 kB/s eta 0:00:37\n",
      "   -------- ------------------------------- 3.1/14.8 MB 333.7 kB/s eta 0:00:35\n",
      "   -------- ------------------------------- 3.1/14.8 MB 333.7 kB/s eta 0:00:35\n",
      "   -------- ------------------------------- 3.1/14.8 MB 333.7 kB/s eta 0:00:35\n",
      "   --------- ------------------------------ 3.4/14.8 MB 337.8 kB/s eta 0:00:34\n",
      "   --------- ------------------------------ 3.4/14.8 MB 337.8 kB/s eta 0:00:34\n",
      "   --------- ------------------------------ 3.4/14.8 MB 337.8 kB/s eta 0:00:34\n",
      "   --------- ------------------------------ 3.4/14.8 MB 337.8 kB/s eta 0:00:34\n",
      "   --------- ------------------------------ 3.4/14.8 MB 337.8 kB/s eta 0:00:34\n",
      "   --------- ------------------------------ 3.4/14.8 MB 337.8 kB/s eta 0:00:34\n",
      "   --------- ------------------------------ 3.7/14.8 MB 321.2 kB/s eta 0:00:35\n",
      "   --------- ------------------------------ 3.7/14.8 MB 321.2 kB/s eta 0:00:35\n",
      "   --------- ------------------------------ 3.7/14.8 MB 321.2 kB/s eta 0:00:35\n",
      "   --------- ------------------------------ 3.7/14.8 MB 321.2 kB/s eta 0:00:35\n",
      "   --------- ------------------------------ 3.7/14.8 MB 321.2 kB/s eta 0:00:35\n",
      "   ---------- ----------------------------- 3.9/14.8 MB 313.2 kB/s eta 0:00:35\n",
      "   ---------- ----------------------------- 3.9/14.8 MB 313.2 kB/s eta 0:00:35\n",
      "   ---------- ----------------------------- 3.9/14.8 MB 313.2 kB/s eta 0:00:35\n",
      "   ---------- ----------------------------- 3.9/14.8 MB 313.2 kB/s eta 0:00:35\n",
      "   ----------- ---------------------------- 4.2/14.8 MB 317.4 kB/s eta 0:00:34\n",
      "   ----------- ---------------------------- 4.2/14.8 MB 317.4 kB/s eta 0:00:34\n",
      "   ------------ --------------------------- 4.5/14.8 MB 323.0 kB/s eta 0:00:33\n",
      "   ------------ --------------------------- 4.5/14.8 MB 323.0 kB/s eta 0:00:33\n",
      "   ------------ --------------------------- 4.5/14.8 MB 323.0 kB/s eta 0:00:33\n",
      "   ------------ --------------------------- 4.5/14.8 MB 323.0 kB/s eta 0:00:33\n",
      "   ------------ --------------------------- 4.7/14.8 MB 323.0 kB/s eta 0:00:32\n",
      "   ------------ --------------------------- 4.7/14.8 MB 323.0 kB/s eta 0:00:32\n",
      "   ------------- -------------------------- 5.0/14.8 MB 331.5 kB/s eta 0:00:30\n",
      "   ------------- -------------------------- 5.0/14.8 MB 331.5 kB/s eta 0:00:30\n",
      "   -------------- ------------------------- 5.2/14.8 MB 342.0 kB/s eta 0:00:28\n",
      "   -------------- ------------------------- 5.5/14.8 MB 353.2 kB/s eta 0:00:27\n",
      "   -------------- ------------------------- 5.5/14.8 MB 353.2 kB/s eta 0:00:27\n",
      "   --------------- ------------------------ 5.8/14.8 MB 360.3 kB/s eta 0:00:26\n",
      "   --------------- ------------------------ 5.8/14.8 MB 360.3 kB/s eta 0:00:26\n",
      "   ---------------- ----------------------- 6.0/14.8 MB 365.4 kB/s eta 0:00:25\n",
      "   ---------------- ----------------------- 6.0/14.8 MB 365.4 kB/s eta 0:00:25\n",
      "   ---------------- ----------------------- 6.0/14.8 MB 365.4 kB/s eta 0:00:25\n",
      "   ---------------- ----------------------- 6.3/14.8 MB 368.2 kB/s eta 0:00:24\n",
      "   ---------------- ----------------------- 6.3/14.8 MB 368.2 kB/s eta 0:00:24\n",
      "   ---------------- ----------------------- 6.3/14.8 MB 368.2 kB/s eta 0:00:24\n",
      "   ----------------- ---------------------- 6.6/14.8 MB 371.1 kB/s eta 0:00:23\n",
      "   ----------------- ---------------------- 6.6/14.8 MB 371.1 kB/s eta 0:00:23\n",
      "   ----------------- ---------------------- 6.6/14.8 MB 371.1 kB/s eta 0:00:23\n",
      "   ----------------- ---------------------- 6.6/14.8 MB 371.1 kB/s eta 0:00:23\n",
      "   ----------------- ---------------------- 6.6/14.8 MB 371.1 kB/s eta 0:00:23\n",
      "   ----------------- ---------------------- 6.6/14.8 MB 371.1 kB/s eta 0:00:23\n",
      "   ----------------- ---------------------- 6.6/14.8 MB 371.1 kB/s eta 0:00:23\n",
      "   ----------------- ---------------------- 6.6/14.8 MB 371.1 kB/s eta 0:00:23\n",
      "   ----------------- ---------------------- 6.6/14.8 MB 371.1 kB/s eta 0:00:23\n",
      "   ----------------- ---------------------- 6.6/14.8 MB 371.1 kB/s eta 0:00:23\n",
      "   ------------------ --------------------- 6.8/14.8 MB 340.7 kB/s eta 0:00:24\n",
      "   ------------------- -------------------- 7.1/14.8 MB 352.6 kB/s eta 0:00:22\n",
      "   ------------------- -------------------- 7.3/14.8 MB 362.4 kB/s eta 0:00:21\n",
      "   -------------------- ------------------- 7.6/14.8 MB 371.4 kB/s eta 0:00:20\n",
      "   -------------------- ------------------- 7.6/14.8 MB 371.4 kB/s eta 0:00:20\n",
      "   -------------------- ------------------- 7.6/14.8 MB 371.4 kB/s eta 0:00:20\n",
      "   --------------------- ------------------ 7.9/14.8 MB 372.3 kB/s eta 0:00:19\n",
      "   --------------------- ------------------ 7.9/14.8 MB 372.3 kB/s eta 0:00:19\n",
      "   --------------------- ------------------ 7.9/14.8 MB 372.3 kB/s eta 0:00:19\n",
      "   --------------------- ------------------ 8.1/14.8 MB 373.7 kB/s eta 0:00:18\n",
      "   --------------------- ------------------ 8.1/14.8 MB 373.7 kB/s eta 0:00:18\n",
      "   --------------------- ------------------ 8.1/14.8 MB 373.7 kB/s eta 0:00:18\n",
      "   --------------------- ------------------ 8.1/14.8 MB 373.7 kB/s eta 0:00:18\n",
      "   ---------------------- ----------------- 8.4/14.8 MB 370.7 kB/s eta 0:00:18\n",
      "   ---------------------- ----------------- 8.4/14.8 MB 370.7 kB/s eta 0:00:18\n",
      "   ---------------------- ----------------- 8.4/14.8 MB 370.7 kB/s eta 0:00:18\n",
      "   ---------------------- ----------------- 8.4/14.8 MB 370.7 kB/s eta 0:00:18\n",
      "   ---------------------- ----------------- 8.4/14.8 MB 370.7 kB/s eta 0:00:18\n",
      "   ---------------------- ----------------- 8.4/14.8 MB 370.7 kB/s eta 0:00:18\n",
      "   ---------------------- ----------------- 8.4/14.8 MB 370.7 kB/s eta 0:00:18\n",
      "   ---------------------- ----------------- 8.4/14.8 MB 370.7 kB/s eta 0:00:18\n",
      "   ---------------------- ----------------- 8.4/14.8 MB 370.7 kB/s eta 0:00:18\n",
      "   ---------------------- ----------------- 8.4/14.8 MB 370.7 kB/s eta 0:00:18\n",
      "   ----------------------- ---------------- 8.7/14.8 MB 347.7 kB/s eta 0:00:18\n",
      "   ------------------------ --------------- 8.9/14.8 MB 356.1 kB/s eta 0:00:17\n",
      "   ------------------------ --------------- 8.9/14.8 MB 356.1 kB/s eta 0:00:17\n",
      "   ------------------------ --------------- 8.9/14.8 MB 356.1 kB/s eta 0:00:17\n",
      "   ------------------------- -------------- 9.4/14.8 MB 368.2 kB/s eta 0:00:15\n",
      "   -------------------------- ------------- 9.7/14.8 MB 376.6 kB/s eta 0:00:14\n",
      "   -------------------------- ------------- 9.7/14.8 MB 376.6 kB/s eta 0:00:14\n",
      "   -------------------------- ------------- 10.0/14.8 MB 377.6 kB/s eta 0:00:13\n",
      "   -------------------------- ------------- 10.0/14.8 MB 377.6 kB/s eta 0:00:13\n",
      "   -------------------------- ------------- 10.0/14.8 MB 377.6 kB/s eta 0:00:13\n",
      "   -------------------------- ------------- 10.0/14.8 MB 377.6 kB/s eta 0:00:13\n",
      "   -------------------------- ------------- 10.0/14.8 MB 377.6 kB/s eta 0:00:13\n",
      "   --------------------------- ------------ 10.2/14.8 MB 374.8 kB/s eta 0:00:13\n",
      "   --------------------------- ------------ 10.2/14.8 MB 374.8 kB/s eta 0:00:13\n",
      "   ---------------------------- ----------- 10.5/14.8 MB 376.9 kB/s eta 0:00:12\n",
      "   ---------------------------- ----------- 10.5/14.8 MB 376.9 kB/s eta 0:00:12\n",
      "   ---------------------------- ----------- 10.5/14.8 MB 376.9 kB/s eta 0:00:12\n",
      "   ----------------------------- ---------- 10.7/14.8 MB 378.5 kB/s eta 0:00:11\n",
      "   ----------------------------- ---------- 10.7/14.8 MB 378.5 kB/s eta 0:00:11\n",
      "   ----------------------------- ---------- 10.7/14.8 MB 378.5 kB/s eta 0:00:11\n",
      "   ----------------------------- ---------- 11.0/14.8 MB 379.8 kB/s eta 0:00:10\n",
      "   ------------------------------ --------- 11.3/14.8 MB 384.8 kB/s eta 0:00:10\n",
      "   ------------------------------ --------- 11.3/14.8 MB 384.8 kB/s eta 0:00:10\n",
      "   ------------------------------- -------- 11.5/14.8 MB 389.1 kB/s eta 0:00:09\n",
      "   ------------------------------- -------- 11.5/14.8 MB 389.1 kB/s eta 0:00:09\n",
      "   ------------------------------- -------- 11.5/14.8 MB 389.1 kB/s eta 0:00:09\n",
      "   ------------------------------- -------- 11.5/14.8 MB 389.1 kB/s eta 0:00:09\n",
      "   ------------------------------- -------- 11.5/14.8 MB 389.1 kB/s eta 0:00:09\n",
      "   ------------------------------- -------- 11.5/14.8 MB 389.1 kB/s eta 0:00:09\n",
      "   ------------------------------- -------- 11.5/14.8 MB 389.1 kB/s eta 0:00:09\n",
      "   ------------------------------- -------- 11.5/14.8 MB 389.1 kB/s eta 0:00:09\n",
      "   ------------------------------- -------- 11.5/14.8 MB 389.1 kB/s eta 0:00:09\n",
      "   ------------------------------- -------- 11.5/14.8 MB 389.1 kB/s eta 0:00:09\n",
      "   -------------------------------- ------- 12.1/14.8 MB 374.2 kB/s eta 0:00:08\n",
      "   -------------------------------- ------- 12.1/14.8 MB 374.2 kB/s eta 0:00:08\n",
      "   -------------------------------- ------- 12.1/14.8 MB 374.2 kB/s eta 0:00:08\n",
      "   -------------------------------- ------- 12.1/14.8 MB 374.2 kB/s eta 0:00:08\n",
      "   -------------------------------- ------- 12.1/14.8 MB 374.2 kB/s eta 0:00:08\n",
      "   --------------------------------- ------ 12.6/14.8 MB 385.2 kB/s eta 0:00:06\n",
      "   --------------------------------- ------ 12.6/14.8 MB 385.2 kB/s eta 0:00:06\n",
      "   ---------------------------------- ----- 12.8/14.8 MB 387.3 kB/s eta 0:00:06\n",
      "   ---------------------------------- ----- 12.8/14.8 MB 387.3 kB/s eta 0:00:06\n",
      "   ----------------------------------- ---- 13.1/14.8 MB 390.0 kB/s eta 0:00:05\n",
      "   ----------------------------------- ---- 13.1/14.8 MB 390.0 kB/s eta 0:00:05\n",
      "   ------------------------------------ --- 13.4/14.8 MB 397.1 kB/s eta 0:00:04\n",
      "   ------------------------------------ --- 13.4/14.8 MB 397.1 kB/s eta 0:00:04\n",
      "   ------------------------------------ --- 13.6/14.8 MB 399.7 kB/s eta 0:00:03\n",
      "   ------------------------------------ --- 13.6/14.8 MB 399.7 kB/s eta 0:00:03\n",
      "   ------------------------------------ --- 13.6/14.8 MB 399.7 kB/s eta 0:00:03\n",
      "   ------------------------------------- -- 13.9/14.8 MB 403.3 kB/s eta 0:00:03\n",
      "   ------------------------------------- -- 13.9/14.8 MB 403.3 kB/s eta 0:00:03\n",
      "   ------------------------------------- -- 13.9/14.8 MB 403.3 kB/s eta 0:00:03\n",
      "   -------------------------------------- - 14.2/14.8 MB 404.7 kB/s eta 0:00:02\n",
      "   -------------------------------------- - 14.4/14.8 MB 412.9 kB/s eta 0:00:01\n",
      "   -------------------------------------- - 14.4/14.8 MB 412.9 kB/s eta 0:00:01\n",
      "   ---------------------------------------  14.7/14.8 MB 417.9 kB/s eta 0:00:01\n",
      "   ---------------------------------------- 14.8/14.8 MB 419.7 kB/s eta 0:00:00\n",
      "Downloading narwhals-1.30.0-py3-none-any.whl (313 kB)\n",
      "Installing collected packages: narwhals, plotly\n",
      "Successfully installed narwhals-1.30.0 plotly-6.0.0\n",
      "Note: you may need to restart the kernel to use updated packages.\n"
     ]
    }
   ],
   "source": [
    "#uncomment this if the above gives you an error\n",
    "#%pip install plotly"
   ]
  },
  {
   "cell_type": "markdown",
   "metadata": {},
   "source": [
    "First, I'll make a new subset of the original dataset to plot. Nothing new here."
   ]
  },
  {
   "cell_type": "code",
   "execution_count": 61,
   "metadata": {},
   "outputs": [
    {
     "data": {
      "text/html": [
       "<div>\n",
       "<style scoped>\n",
       "    .dataframe tbody tr th:only-of-type {\n",
       "        vertical-align: middle;\n",
       "    }\n",
       "\n",
       "    .dataframe tbody tr th {\n",
       "        vertical-align: top;\n",
       "    }\n",
       "\n",
       "    .dataframe thead th {\n",
       "        text-align: right;\n",
       "    }\n",
       "</style>\n",
       "<table border=\"1\" class=\"dataframe\">\n",
       "  <thead>\n",
       "    <tr style=\"text-align: right;\">\n",
       "      <th></th>\n",
       "      <th>ID</th>\n",
       "      <th>Name</th>\n",
       "      <th>Sex</th>\n",
       "      <th>Age</th>\n",
       "      <th>Height</th>\n",
       "      <th>Weight</th>\n",
       "      <th>Team</th>\n",
       "      <th>NOC</th>\n",
       "      <th>Games</th>\n",
       "      <th>Year</th>\n",
       "      <th>Season</th>\n",
       "      <th>City</th>\n",
       "      <th>Sport</th>\n",
       "      <th>Event</th>\n",
       "      <th>Medal</th>\n",
       "    </tr>\n",
       "  </thead>\n",
       "  <tbody>\n",
       "    <tr>\n",
       "      <th>0</th>\n",
       "      <td>7901</td>\n",
       "      <td>Charles Wade Barkley</td>\n",
       "      <td>M</td>\n",
       "      <td>29.0</td>\n",
       "      <td>198.0</td>\n",
       "      <td>114.0</td>\n",
       "      <td>United States</td>\n",
       "      <td>USA</td>\n",
       "      <td>1992 Summer</td>\n",
       "      <td>1992</td>\n",
       "      <td>Summer</td>\n",
       "      <td>Barcelona</td>\n",
       "      <td>Basketball</td>\n",
       "      <td>Basketball Men's Basketball</td>\n",
       "      <td>Gold</td>\n",
       "    </tr>\n",
       "    <tr>\n",
       "      <th>1</th>\n",
       "      <td>11668</td>\n",
       "      <td>Larry Joe Bird</td>\n",
       "      <td>M</td>\n",
       "      <td>35.0</td>\n",
       "      <td>205.0</td>\n",
       "      <td>100.0</td>\n",
       "      <td>United States</td>\n",
       "      <td>USA</td>\n",
       "      <td>1992 Summer</td>\n",
       "      <td>1992</td>\n",
       "      <td>Summer</td>\n",
       "      <td>Barcelona</td>\n",
       "      <td>Basketball</td>\n",
       "      <td>Basketball Men's Basketball</td>\n",
       "      <td>Gold</td>\n",
       "    </tr>\n",
       "    <tr>\n",
       "      <th>2</th>\n",
       "      <td>30009</td>\n",
       "      <td>Clyde Austin Drexler</td>\n",
       "      <td>M</td>\n",
       "      <td>30.0</td>\n",
       "      <td>200.0</td>\n",
       "      <td>101.0</td>\n",
       "      <td>United States</td>\n",
       "      <td>USA</td>\n",
       "      <td>1992 Summer</td>\n",
       "      <td>1992</td>\n",
       "      <td>Summer</td>\n",
       "      <td>Barcelona</td>\n",
       "      <td>Basketball</td>\n",
       "      <td>Basketball Men's Basketball</td>\n",
       "      <td>Gold</td>\n",
       "    </tr>\n",
       "    <tr>\n",
       "      <th>3</th>\n",
       "      <td>33553</td>\n",
       "      <td>Patrick Aloysius Ewing</td>\n",
       "      <td>M</td>\n",
       "      <td>29.0</td>\n",
       "      <td>213.0</td>\n",
       "      <td>109.0</td>\n",
       "      <td>United States</td>\n",
       "      <td>USA</td>\n",
       "      <td>1992 Summer</td>\n",
       "      <td>1992</td>\n",
       "      <td>Summer</td>\n",
       "      <td>Barcelona</td>\n",
       "      <td>Basketball</td>\n",
       "      <td>Basketball Men's Basketball</td>\n",
       "      <td>Gold</td>\n",
       "    </tr>\n",
       "    <tr>\n",
       "      <th>4</th>\n",
       "      <td>55424</td>\n",
       "      <td>Earvin \"Magic\" Johnson, Jr.</td>\n",
       "      <td>M</td>\n",
       "      <td>32.0</td>\n",
       "      <td>205.0</td>\n",
       "      <td>100.0</td>\n",
       "      <td>United States</td>\n",
       "      <td>USA</td>\n",
       "      <td>1992 Summer</td>\n",
       "      <td>1992</td>\n",
       "      <td>Summer</td>\n",
       "      <td>Barcelona</td>\n",
       "      <td>Basketball</td>\n",
       "      <td>Basketball Men's Basketball</td>\n",
       "      <td>Gold</td>\n",
       "    </tr>\n",
       "  </tbody>\n",
       "</table>\n",
       "</div>"
      ],
      "text/plain": [
       "      ID                         Name Sex   Age  Height  Weight  \\\n",
       "0   7901         Charles Wade Barkley   M  29.0   198.0   114.0   \n",
       "1  11668               Larry Joe Bird   M  35.0   205.0   100.0   \n",
       "2  30009         Clyde Austin Drexler   M  30.0   200.0   101.0   \n",
       "3  33553       Patrick Aloysius Ewing   M  29.0   213.0   109.0   \n",
       "4  55424  Earvin \"Magic\" Johnson, Jr.   M  32.0   205.0   100.0   \n",
       "\n",
       "            Team  NOC        Games  Year  Season       City       Sport  \\\n",
       "0  United States  USA  1992 Summer  1992  Summer  Barcelona  Basketball   \n",
       "1  United States  USA  1992 Summer  1992  Summer  Barcelona  Basketball   \n",
       "2  United States  USA  1992 Summer  1992  Summer  Barcelona  Basketball   \n",
       "3  United States  USA  1992 Summer  1992  Summer  Barcelona  Basketball   \n",
       "4  United States  USA  1992 Summer  1992  Summer  Barcelona  Basketball   \n",
       "\n",
       "                         Event Medal  \n",
       "0  Basketball Men's Basketball  Gold  \n",
       "1  Basketball Men's Basketball  Gold  \n",
       "2  Basketball Men's Basketball  Gold  \n",
       "3  Basketball Men's Basketball  Gold  \n",
       "4  Basketball Men's Basketball  Gold  "
      ]
     },
     "execution_count": 61,
     "metadata": {},
     "output_type": "execute_result"
    }
   ],
   "source": [
    "dream_team = duckdb.sql(\"\"\"SELECT * FROM olympics \n",
    "                      WHERE Games = '1992 Summer' AND SEX = 'M' AND Sport='Basketball' AND Team = 'United States'\"\"\").df()\n",
    "\n",
    "dream_team.head()"
   ]
  },
  {
   "cell_type": "markdown",
   "metadata": {},
   "source": [
    "Now, I'll make the plotly plot. Most of the stuff is self-explanatory, but the syntax is all new compared to Seaborn and matplotlib. Honestly, this isn't the best plot you can get out of plotly, but it serves its purpose in showing *something* that you can make with the Python package. Try hovering over certain names to see the interactive elements of the plot. You can also use the tool bar at the top right to interact with the plot in other ways.\n",
    "\n",
    "Obviously, this plot could look a lot better, and there could be more interaction, but for now, this is a solid starting point to showcase the benefits of using plotly."
   ]
  },
  {
   "cell_type": "code",
   "execution_count": null,
   "metadata": {},
   "outputs": [
    {
     "data": {
      "application/vnd.plotly.v1+json": {
       "config": {
        "plotlyServerURL": "https://plot.ly"
       },
       "data": [
        {
         "hovertemplate": "Height=%{x}<br>Weight=%{y}<br>Name=%{text}<extra></extra>",
         "legendgroup": "",
         "marker": {
          "color": "#636efa",
          "symbol": "circle"
         },
         "mode": "markers+text",
         "name": "",
         "orientation": "v",
         "showlegend": false,
         "text": [
          "Charles Wade Barkley",
          "Larry Joe Bird",
          "Clyde Austin Drexler",
          "Patrick Aloysius Ewing",
          "Earvin \"Magic\" Johnson, Jr.",
          "Michael Jeffrey Jordan",
          "Christian Donald Laettner",
          "Karl Malone",
          "Christopher Paul \"Chris\" Mullin",
          "Scottie Maurice Pippen",
          "David Maurice Robinson",
          "John Houston Stockton"
         ],
         "type": "scatter",
         "x": {
          "bdata": "AAAAAADAaEAAAAAAAKBpQAAAAAAAAGlAAAAAAACgakAAAAAAAKBpQAAAAAAAwGhAAAAAAABgakAAAAAAAKBpQAAAAAAAAGlAAAAAAAAAaUAAAAAAAABrQAAAAAAAIGdA",
          "dtype": "f8"
         },
         "xaxis": "x",
         "y": {
          "bdata": "AAAAAACAXEAAAAAAAABZQAAAAAAAQFlAAAAAAABAW0AAAAAAAABZQAAAAAAAgFZAAAAAAADAWkAAAAAAAABdQAAAAAAAgFhAAAAAAACAWUAAAAAAAMBaQAAAAAAAwFNA",
          "dtype": "f8"
         },
         "yaxis": "y"
        }
       ],
       "layout": {
        "height": 500,
        "legend": {
         "tracegroupgap": 0
        },
        "margin": {
         "t": 60
        },
        "template": {
         "data": {
          "bar": [
           {
            "error_x": {
             "color": "#2a3f5f"
            },
            "error_y": {
             "color": "#2a3f5f"
            },
            "marker": {
             "line": {
              "color": "#E5ECF6",
              "width": 0.5
             },
             "pattern": {
              "fillmode": "overlay",
              "size": 10,
              "solidity": 0.2
             }
            },
            "type": "bar"
           }
          ],
          "barpolar": [
           {
            "marker": {
             "line": {
              "color": "#E5ECF6",
              "width": 0.5
             },
             "pattern": {
              "fillmode": "overlay",
              "size": 10,
              "solidity": 0.2
             }
            },
            "type": "barpolar"
           }
          ],
          "carpet": [
           {
            "aaxis": {
             "endlinecolor": "#2a3f5f",
             "gridcolor": "white",
             "linecolor": "white",
             "minorgridcolor": "white",
             "startlinecolor": "#2a3f5f"
            },
            "baxis": {
             "endlinecolor": "#2a3f5f",
             "gridcolor": "white",
             "linecolor": "white",
             "minorgridcolor": "white",
             "startlinecolor": "#2a3f5f"
            },
            "type": "carpet"
           }
          ],
          "choropleth": [
           {
            "colorbar": {
             "outlinewidth": 0,
             "ticks": ""
            },
            "type": "choropleth"
           }
          ],
          "contour": [
           {
            "colorbar": {
             "outlinewidth": 0,
             "ticks": ""
            },
            "colorscale": [
             [
              0,
              "#0d0887"
             ],
             [
              0.1111111111111111,
              "#46039f"
             ],
             [
              0.2222222222222222,
              "#7201a8"
             ],
             [
              0.3333333333333333,
              "#9c179e"
             ],
             [
              0.4444444444444444,
              "#bd3786"
             ],
             [
              0.5555555555555556,
              "#d8576b"
             ],
             [
              0.6666666666666666,
              "#ed7953"
             ],
             [
              0.7777777777777778,
              "#fb9f3a"
             ],
             [
              0.8888888888888888,
              "#fdca26"
             ],
             [
              1,
              "#f0f921"
             ]
            ],
            "type": "contour"
           }
          ],
          "contourcarpet": [
           {
            "colorbar": {
             "outlinewidth": 0,
             "ticks": ""
            },
            "type": "contourcarpet"
           }
          ],
          "heatmap": [
           {
            "colorbar": {
             "outlinewidth": 0,
             "ticks": ""
            },
            "colorscale": [
             [
              0,
              "#0d0887"
             ],
             [
              0.1111111111111111,
              "#46039f"
             ],
             [
              0.2222222222222222,
              "#7201a8"
             ],
             [
              0.3333333333333333,
              "#9c179e"
             ],
             [
              0.4444444444444444,
              "#bd3786"
             ],
             [
              0.5555555555555556,
              "#d8576b"
             ],
             [
              0.6666666666666666,
              "#ed7953"
             ],
             [
              0.7777777777777778,
              "#fb9f3a"
             ],
             [
              0.8888888888888888,
              "#fdca26"
             ],
             [
              1,
              "#f0f921"
             ]
            ],
            "type": "heatmap"
           }
          ],
          "histogram": [
           {
            "marker": {
             "pattern": {
              "fillmode": "overlay",
              "size": 10,
              "solidity": 0.2
             }
            },
            "type": "histogram"
           }
          ],
          "histogram2d": [
           {
            "colorbar": {
             "outlinewidth": 0,
             "ticks": ""
            },
            "colorscale": [
             [
              0,
              "#0d0887"
             ],
             [
              0.1111111111111111,
              "#46039f"
             ],
             [
              0.2222222222222222,
              "#7201a8"
             ],
             [
              0.3333333333333333,
              "#9c179e"
             ],
             [
              0.4444444444444444,
              "#bd3786"
             ],
             [
              0.5555555555555556,
              "#d8576b"
             ],
             [
              0.6666666666666666,
              "#ed7953"
             ],
             [
              0.7777777777777778,
              "#fb9f3a"
             ],
             [
              0.8888888888888888,
              "#fdca26"
             ],
             [
              1,
              "#f0f921"
             ]
            ],
            "type": "histogram2d"
           }
          ],
          "histogram2dcontour": [
           {
            "colorbar": {
             "outlinewidth": 0,
             "ticks": ""
            },
            "colorscale": [
             [
              0,
              "#0d0887"
             ],
             [
              0.1111111111111111,
              "#46039f"
             ],
             [
              0.2222222222222222,
              "#7201a8"
             ],
             [
              0.3333333333333333,
              "#9c179e"
             ],
             [
              0.4444444444444444,
              "#bd3786"
             ],
             [
              0.5555555555555556,
              "#d8576b"
             ],
             [
              0.6666666666666666,
              "#ed7953"
             ],
             [
              0.7777777777777778,
              "#fb9f3a"
             ],
             [
              0.8888888888888888,
              "#fdca26"
             ],
             [
              1,
              "#f0f921"
             ]
            ],
            "type": "histogram2dcontour"
           }
          ],
          "mesh3d": [
           {
            "colorbar": {
             "outlinewidth": 0,
             "ticks": ""
            },
            "type": "mesh3d"
           }
          ],
          "parcoords": [
           {
            "line": {
             "colorbar": {
              "outlinewidth": 0,
              "ticks": ""
             }
            },
            "type": "parcoords"
           }
          ],
          "pie": [
           {
            "automargin": true,
            "type": "pie"
           }
          ],
          "scatter": [
           {
            "fillpattern": {
             "fillmode": "overlay",
             "size": 10,
             "solidity": 0.2
            },
            "type": "scatter"
           }
          ],
          "scatter3d": [
           {
            "line": {
             "colorbar": {
              "outlinewidth": 0,
              "ticks": ""
             }
            },
            "marker": {
             "colorbar": {
              "outlinewidth": 0,
              "ticks": ""
             }
            },
            "type": "scatter3d"
           }
          ],
          "scattercarpet": [
           {
            "marker": {
             "colorbar": {
              "outlinewidth": 0,
              "ticks": ""
             }
            },
            "type": "scattercarpet"
           }
          ],
          "scattergeo": [
           {
            "marker": {
             "colorbar": {
              "outlinewidth": 0,
              "ticks": ""
             }
            },
            "type": "scattergeo"
           }
          ],
          "scattergl": [
           {
            "marker": {
             "colorbar": {
              "outlinewidth": 0,
              "ticks": ""
             }
            },
            "type": "scattergl"
           }
          ],
          "scattermap": [
           {
            "marker": {
             "colorbar": {
              "outlinewidth": 0,
              "ticks": ""
             }
            },
            "type": "scattermap"
           }
          ],
          "scattermapbox": [
           {
            "marker": {
             "colorbar": {
              "outlinewidth": 0,
              "ticks": ""
             }
            },
            "type": "scattermapbox"
           }
          ],
          "scatterpolar": [
           {
            "marker": {
             "colorbar": {
              "outlinewidth": 0,
              "ticks": ""
             }
            },
            "type": "scatterpolar"
           }
          ],
          "scatterpolargl": [
           {
            "marker": {
             "colorbar": {
              "outlinewidth": 0,
              "ticks": ""
             }
            },
            "type": "scatterpolargl"
           }
          ],
          "scatterternary": [
           {
            "marker": {
             "colorbar": {
              "outlinewidth": 0,
              "ticks": ""
             }
            },
            "type": "scatterternary"
           }
          ],
          "surface": [
           {
            "colorbar": {
             "outlinewidth": 0,
             "ticks": ""
            },
            "colorscale": [
             [
              0,
              "#0d0887"
             ],
             [
              0.1111111111111111,
              "#46039f"
             ],
             [
              0.2222222222222222,
              "#7201a8"
             ],
             [
              0.3333333333333333,
              "#9c179e"
             ],
             [
              0.4444444444444444,
              "#bd3786"
             ],
             [
              0.5555555555555556,
              "#d8576b"
             ],
             [
              0.6666666666666666,
              "#ed7953"
             ],
             [
              0.7777777777777778,
              "#fb9f3a"
             ],
             [
              0.8888888888888888,
              "#fdca26"
             ],
             [
              1,
              "#f0f921"
             ]
            ],
            "type": "surface"
           }
          ],
          "table": [
           {
            "cells": {
             "fill": {
              "color": "#EBF0F8"
             },
             "line": {
              "color": "white"
             }
            },
            "header": {
             "fill": {
              "color": "#C8D4E3"
             },
             "line": {
              "color": "white"
             }
            },
            "type": "table"
           }
          ]
         },
         "layout": {
          "annotationdefaults": {
           "arrowcolor": "#2a3f5f",
           "arrowhead": 0,
           "arrowwidth": 1
          },
          "autotypenumbers": "strict",
          "coloraxis": {
           "colorbar": {
            "outlinewidth": 0,
            "ticks": ""
           }
          },
          "colorscale": {
           "diverging": [
            [
             0,
             "#8e0152"
            ],
            [
             0.1,
             "#c51b7d"
            ],
            [
             0.2,
             "#de77ae"
            ],
            [
             0.3,
             "#f1b6da"
            ],
            [
             0.4,
             "#fde0ef"
            ],
            [
             0.5,
             "#f7f7f7"
            ],
            [
             0.6,
             "#e6f5d0"
            ],
            [
             0.7,
             "#b8e186"
            ],
            [
             0.8,
             "#7fbc41"
            ],
            [
             0.9,
             "#4d9221"
            ],
            [
             1,
             "#276419"
            ]
           ],
           "sequential": [
            [
             0,
             "#0d0887"
            ],
            [
             0.1111111111111111,
             "#46039f"
            ],
            [
             0.2222222222222222,
             "#7201a8"
            ],
            [
             0.3333333333333333,
             "#9c179e"
            ],
            [
             0.4444444444444444,
             "#bd3786"
            ],
            [
             0.5555555555555556,
             "#d8576b"
            ],
            [
             0.6666666666666666,
             "#ed7953"
            ],
            [
             0.7777777777777778,
             "#fb9f3a"
            ],
            [
             0.8888888888888888,
             "#fdca26"
            ],
            [
             1,
             "#f0f921"
            ]
           ],
           "sequentialminus": [
            [
             0,
             "#0d0887"
            ],
            [
             0.1111111111111111,
             "#46039f"
            ],
            [
             0.2222222222222222,
             "#7201a8"
            ],
            [
             0.3333333333333333,
             "#9c179e"
            ],
            [
             0.4444444444444444,
             "#bd3786"
            ],
            [
             0.5555555555555556,
             "#d8576b"
            ],
            [
             0.6666666666666666,
             "#ed7953"
            ],
            [
             0.7777777777777778,
             "#fb9f3a"
            ],
            [
             0.8888888888888888,
             "#fdca26"
            ],
            [
             1,
             "#f0f921"
            ]
           ]
          },
          "colorway": [
           "#636efa",
           "#EF553B",
           "#00cc96",
           "#ab63fa",
           "#FFA15A",
           "#19d3f3",
           "#FF6692",
           "#B6E880",
           "#FF97FF",
           "#FECB52"
          ],
          "font": {
           "color": "#2a3f5f"
          },
          "geo": {
           "bgcolor": "white",
           "lakecolor": "white",
           "landcolor": "#E5ECF6",
           "showlakes": true,
           "showland": true,
           "subunitcolor": "white"
          },
          "hoverlabel": {
           "align": "left"
          },
          "hovermode": "closest",
          "mapbox": {
           "style": "light"
          },
          "paper_bgcolor": "white",
          "plot_bgcolor": "#E5ECF6",
          "polar": {
           "angularaxis": {
            "gridcolor": "white",
            "linecolor": "white",
            "ticks": ""
           },
           "bgcolor": "#E5ECF6",
           "radialaxis": {
            "gridcolor": "white",
            "linecolor": "white",
            "ticks": ""
           }
          },
          "scene": {
           "xaxis": {
            "backgroundcolor": "#E5ECF6",
            "gridcolor": "white",
            "gridwidth": 2,
            "linecolor": "white",
            "showbackground": true,
            "ticks": "",
            "zerolinecolor": "white"
           },
           "yaxis": {
            "backgroundcolor": "#E5ECF6",
            "gridcolor": "white",
            "gridwidth": 2,
            "linecolor": "white",
            "showbackground": true,
            "ticks": "",
            "zerolinecolor": "white"
           },
           "zaxis": {
            "backgroundcolor": "#E5ECF6",
            "gridcolor": "white",
            "gridwidth": 2,
            "linecolor": "white",
            "showbackground": true,
            "ticks": "",
            "zerolinecolor": "white"
           }
          },
          "shapedefaults": {
           "line": {
            "color": "#2a3f5f"
           }
          },
          "ternary": {
           "aaxis": {
            "gridcolor": "white",
            "linecolor": "white",
            "ticks": ""
           },
           "baxis": {
            "gridcolor": "white",
            "linecolor": "white",
            "ticks": ""
           },
           "bgcolor": "#E5ECF6",
           "caxis": {
            "gridcolor": "white",
            "linecolor": "white",
            "ticks": ""
           }
          },
          "title": {
           "x": 0.05
          },
          "xaxis": {
           "automargin": true,
           "gridcolor": "white",
           "linecolor": "white",
           "ticks": "",
           "title": {
            "standoff": 15
           },
           "zerolinecolor": "white",
           "zerolinewidth": 2
          },
          "yaxis": {
           "automargin": true,
           "gridcolor": "white",
           "linecolor": "white",
           "ticks": "",
           "title": {
            "standoff": 15
           },
           "zerolinecolor": "white",
           "zerolinewidth": 2
          }
         }
        },
        "title": {
         "text": "1992 Dream Team Players' Heights and Weights"
        },
        "width": 800,
        "xaxis": {
         "anchor": "y",
         "domain": [
          0,
          1
         ],
         "title": {
          "text": "Height (cm)"
         }
        },
        "yaxis": {
         "anchor": "x",
         "domain": [
          0,
          1
         ],
         "title": {
          "text": "Weight (kg)"
         }
        }
       }
      }
     },
     "metadata": {},
     "output_type": "display_data"
    }
   ],
   "source": [
    "fig = px.scatter(dream_team,x='Height',y='Weight',text='Name', width=800, height=500)\n",
    "fig.update_layout(title='1992 Dream Team Players\\' Heights and Weights',\n",
    "                  xaxis_title='Height (cm)',\n",
    "                  yaxis_title='Weight (kg)')\n",
    "\n",
    "fig.show()"
   ]
  },
  {
   "cell_type": "markdown",
   "metadata": {},
   "source": [
    "That's it for visualizations, which are, as stated earlier, my favorite part of data science. In the next section you'll see more applications for visualizations as we tackle the last part of NME: Linear Regressions."
   ]
  }
 ],
 "metadata": {
  "kernelspec": {
   "display_name": "datajournal",
   "language": "python",
   "name": "python3"
  },
  "language_info": {
   "codemirror_mode": {
    "name": "ipython",
    "version": 3
   },
   "file_extension": ".py",
   "mimetype": "text/x-python",
   "name": "python",
   "nbconvert_exporter": "python",
   "pygments_lexer": "ipython3",
   "version": "3.12.9"
  }
 },
 "nbformat": 4,
 "nbformat_minor": 2
}
